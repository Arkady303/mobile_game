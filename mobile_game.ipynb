{
 "cells": [
  {
   "cell_type": "code",
   "execution_count": 58,
   "metadata": {},
   "outputs": [],
   "source": [
    "# Импорт необходимых библиотек\n",
    "\n",
    "import pandas as pd\n",
    "import seaborn as sns\n",
    "import matplotlib.pyplot as plt\n",
    "from datetime import timedelta, datetime\n",
    "import requests\n",
    "from urllib.parse import urlencode\n",
    "import pingouin as pg\n",
    "import scipy.stats as ss\n",
    "\n",
    "%matplotlib inline"
   ]
  },
  {
   "cell_type": "markdown",
   "metadata": {},
   "source": [
    "# Задание 1"
   ]
  },
  {
   "cell_type": "markdown",
   "metadata": {},
   "source": [
    "Retention – один из ключевых показателей в компании. Вам необходимо разработать функцию, рассчитывающую удержание игроков (по дням с момента их регистрации)."
   ]
  },
  {
   "cell_type": "code",
   "execution_count": 59,
   "metadata": {},
   "outputs": [],
   "source": [
    "# загружаем данные\n",
    "reg = pd.read_csv('~/shared/problem1-reg_data.csv', sep=';')\n",
    "auth = pd.read_csv('~/shared/problem1-auth_data.csv', sep=';')"
   ]
  },
  {
   "cell_type": "code",
   "execution_count": 60,
   "metadata": {},
   "outputs": [
    {
     "data": {
      "text/html": [
       "<div>\n",
       "<style scoped>\n",
       "    .dataframe tbody tr th:only-of-type {\n",
       "        vertical-align: middle;\n",
       "    }\n",
       "\n",
       "    .dataframe tbody tr th {\n",
       "        vertical-align: top;\n",
       "    }\n",
       "\n",
       "    .dataframe thead th {\n",
       "        text-align: right;\n",
       "    }\n",
       "</style>\n",
       "<table border=\"1\" class=\"dataframe\">\n",
       "  <thead>\n",
       "    <tr style=\"text-align: right;\">\n",
       "      <th></th>\n",
       "      <th>reg_ts</th>\n",
       "      <th>uid</th>\n",
       "    </tr>\n",
       "  </thead>\n",
       "  <tbody>\n",
       "    <tr>\n",
       "      <th>0</th>\n",
       "      <td>911382223</td>\n",
       "      <td>1</td>\n",
       "    </tr>\n",
       "    <tr>\n",
       "      <th>1</th>\n",
       "      <td>932683089</td>\n",
       "      <td>2</td>\n",
       "    </tr>\n",
       "    <tr>\n",
       "      <th>2</th>\n",
       "      <td>947802447</td>\n",
       "      <td>3</td>\n",
       "    </tr>\n",
       "    <tr>\n",
       "      <th>3</th>\n",
       "      <td>959523541</td>\n",
       "      <td>4</td>\n",
       "    </tr>\n",
       "    <tr>\n",
       "      <th>4</th>\n",
       "      <td>969103313</td>\n",
       "      <td>5</td>\n",
       "    </tr>\n",
       "  </tbody>\n",
       "</table>\n",
       "</div>"
      ],
      "text/plain": [
       "      reg_ts  uid\n",
       "0  911382223    1\n",
       "1  932683089    2\n",
       "2  947802447    3\n",
       "3  959523541    4\n",
       "4  969103313    5"
      ]
     },
     "execution_count": 60,
     "metadata": {},
     "output_type": "execute_result"
    }
   ],
   "source": [
    "reg.head()"
   ]
  },
  {
   "cell_type": "code",
   "execution_count": 61,
   "metadata": {},
   "outputs": [
    {
     "data": {
      "text/html": [
       "<div>\n",
       "<style scoped>\n",
       "    .dataframe tbody tr th:only-of-type {\n",
       "        vertical-align: middle;\n",
       "    }\n",
       "\n",
       "    .dataframe tbody tr th {\n",
       "        vertical-align: top;\n",
       "    }\n",
       "\n",
       "    .dataframe thead th {\n",
       "        text-align: right;\n",
       "    }\n",
       "</style>\n",
       "<table border=\"1\" class=\"dataframe\">\n",
       "  <thead>\n",
       "    <tr style=\"text-align: right;\">\n",
       "      <th></th>\n",
       "      <th>auth_ts</th>\n",
       "      <th>uid</th>\n",
       "    </tr>\n",
       "  </thead>\n",
       "  <tbody>\n",
       "    <tr>\n",
       "      <th>0</th>\n",
       "      <td>911382223</td>\n",
       "      <td>1</td>\n",
       "    </tr>\n",
       "    <tr>\n",
       "      <th>1</th>\n",
       "      <td>932683089</td>\n",
       "      <td>2</td>\n",
       "    </tr>\n",
       "    <tr>\n",
       "      <th>2</th>\n",
       "      <td>932921206</td>\n",
       "      <td>2</td>\n",
       "    </tr>\n",
       "    <tr>\n",
       "      <th>3</th>\n",
       "      <td>933393015</td>\n",
       "      <td>2</td>\n",
       "    </tr>\n",
       "    <tr>\n",
       "      <th>4</th>\n",
       "      <td>933875379</td>\n",
       "      <td>2</td>\n",
       "    </tr>\n",
       "  </tbody>\n",
       "</table>\n",
       "</div>"
      ],
      "text/plain": [
       "     auth_ts  uid\n",
       "0  911382223    1\n",
       "1  932683089    2\n",
       "2  932921206    2\n",
       "3  933393015    2\n",
       "4  933875379    2"
      ]
     },
     "execution_count": 61,
     "metadata": {},
     "output_type": "execute_result"
    }
   ],
   "source": [
    "auth.head()"
   ]
  },
  {
   "cell_type": "code",
   "execution_count": 62,
   "metadata": {},
   "outputs": [
    {
     "name": "stdout",
     "output_type": "stream",
     "text": [
      "<class 'pandas.core.frame.DataFrame'>\n",
      "RangeIndex: 1000000 entries, 0 to 999999\n",
      "Data columns (total 2 columns):\n",
      " #   Column  Non-Null Count    Dtype\n",
      "---  ------  --------------    -----\n",
      " 0   reg_ts  1000000 non-null  int64\n",
      " 1   uid     1000000 non-null  int64\n",
      "dtypes: int64(2)\n",
      "memory usage: 15.3 MB\n"
     ]
    }
   ],
   "source": [
    "# проверяем на отсутсвие нулевых значений и смотрим типы данных\n",
    "reg.info()"
   ]
  },
  {
   "cell_type": "code",
   "execution_count": 63,
   "metadata": {},
   "outputs": [
    {
     "data": {
      "text/plain": [
       "1000000"
      ]
     },
     "execution_count": 63,
     "metadata": {},
     "output_type": "execute_result"
    }
   ],
   "source": [
    "# таже проверяем, что в регистрациях все айди уникальные\n",
    "reg.uid.nunique()"
   ]
  },
  {
   "cell_type": "code",
   "execution_count": 64,
   "metadata": {},
   "outputs": [
    {
     "name": "stdout",
     "output_type": "stream",
     "text": [
      "<class 'pandas.core.frame.DataFrame'>\n",
      "RangeIndex: 9601013 entries, 0 to 9601012\n",
      "Data columns (total 2 columns):\n",
      " #   Column   Dtype\n",
      "---  ------   -----\n",
      " 0   auth_ts  int64\n",
      " 1   uid      int64\n",
      "dtypes: int64(2)\n",
      "memory usage: 146.5 MB\n"
     ]
    }
   ],
   "source": [
    "# проверяем на отсутсвие нулевых значений и смотрим типы данных\n",
    "auth.info()"
   ]
  },
  {
   "cell_type": "code",
   "execution_count": 65,
   "metadata": {},
   "outputs": [],
   "source": [
    "# мероджим данные в один датафрейм\n",
    "reg_auth = auth.merge(reg, on='uid')"
   ]
  },
  {
   "cell_type": "code",
   "execution_count": 66,
   "metadata": {},
   "outputs": [
    {
     "data": {
      "text/html": [
       "<div>\n",
       "<style scoped>\n",
       "    .dataframe tbody tr th:only-of-type {\n",
       "        vertical-align: middle;\n",
       "    }\n",
       "\n",
       "    .dataframe tbody tr th {\n",
       "        vertical-align: top;\n",
       "    }\n",
       "\n",
       "    .dataframe thead th {\n",
       "        text-align: right;\n",
       "    }\n",
       "</style>\n",
       "<table border=\"1\" class=\"dataframe\">\n",
       "  <thead>\n",
       "    <tr style=\"text-align: right;\">\n",
       "      <th></th>\n",
       "      <th>auth_ts</th>\n",
       "      <th>uid</th>\n",
       "      <th>reg_ts</th>\n",
       "    </tr>\n",
       "  </thead>\n",
       "  <tbody>\n",
       "    <tr>\n",
       "      <th>0</th>\n",
       "      <td>911382223</td>\n",
       "      <td>1</td>\n",
       "      <td>911382223</td>\n",
       "    </tr>\n",
       "    <tr>\n",
       "      <th>1</th>\n",
       "      <td>932683089</td>\n",
       "      <td>2</td>\n",
       "      <td>932683089</td>\n",
       "    </tr>\n",
       "    <tr>\n",
       "      <th>2</th>\n",
       "      <td>932921206</td>\n",
       "      <td>2</td>\n",
       "      <td>932683089</td>\n",
       "    </tr>\n",
       "    <tr>\n",
       "      <th>3</th>\n",
       "      <td>933393015</td>\n",
       "      <td>2</td>\n",
       "      <td>932683089</td>\n",
       "    </tr>\n",
       "    <tr>\n",
       "      <th>4</th>\n",
       "      <td>933875379</td>\n",
       "      <td>2</td>\n",
       "      <td>932683089</td>\n",
       "    </tr>\n",
       "  </tbody>\n",
       "</table>\n",
       "</div>"
      ],
      "text/plain": [
       "     auth_ts  uid     reg_ts\n",
       "0  911382223    1  911382223\n",
       "1  932683089    2  932683089\n",
       "2  932921206    2  932683089\n",
       "3  933393015    2  932683089\n",
       "4  933875379    2  932683089"
      ]
     },
     "execution_count": 66,
     "metadata": {},
     "output_type": "execute_result"
    }
   ],
   "source": [
    "# проверяем, что все на месте\n",
    "reg_auth.head()"
   ]
  },
  {
   "cell_type": "code",
   "execution_count": 67,
   "metadata": {},
   "outputs": [],
   "source": [
    "# Переводим столбки с датой в формат даты\n",
    "reg_auth['auth_ts'] = reg_auth['auth_ts'].apply(lambda x: datetime.fromtimestamp(x))\n",
    "reg_auth['reg_ts'] = reg_auth['reg_ts'].apply(lambda x: datetime.fromtimestamp(x))"
   ]
  },
  {
   "cell_type": "code",
   "execution_count": 68,
   "metadata": {},
   "outputs": [
    {
     "data": {
      "text/html": [
       "<div>\n",
       "<style scoped>\n",
       "    .dataframe tbody tr th:only-of-type {\n",
       "        vertical-align: middle;\n",
       "    }\n",
       "\n",
       "    .dataframe tbody tr th {\n",
       "        vertical-align: top;\n",
       "    }\n",
       "\n",
       "    .dataframe thead th {\n",
       "        text-align: right;\n",
       "    }\n",
       "</style>\n",
       "<table border=\"1\" class=\"dataframe\">\n",
       "  <thead>\n",
       "    <tr style=\"text-align: right;\">\n",
       "      <th></th>\n",
       "      <th>auth_ts</th>\n",
       "      <th>uid</th>\n",
       "      <th>reg_ts</th>\n",
       "    </tr>\n",
       "  </thead>\n",
       "  <tbody>\n",
       "    <tr>\n",
       "      <th>0</th>\n",
       "      <td>1998-11-18 12:43:43</td>\n",
       "      <td>1</td>\n",
       "      <td>1998-11-18 12:43:43</td>\n",
       "    </tr>\n",
       "    <tr>\n",
       "      <th>1</th>\n",
       "      <td>1999-07-23 02:38:09</td>\n",
       "      <td>2</td>\n",
       "      <td>1999-07-23 02:38:09</td>\n",
       "    </tr>\n",
       "    <tr>\n",
       "      <th>2</th>\n",
       "      <td>1999-07-25 20:46:46</td>\n",
       "      <td>2</td>\n",
       "      <td>1999-07-23 02:38:09</td>\n",
       "    </tr>\n",
       "    <tr>\n",
       "      <th>3</th>\n",
       "      <td>1999-07-31 07:50:15</td>\n",
       "      <td>2</td>\n",
       "      <td>1999-07-23 02:38:09</td>\n",
       "    </tr>\n",
       "    <tr>\n",
       "      <th>4</th>\n",
       "      <td>1999-08-05 21:49:39</td>\n",
       "      <td>2</td>\n",
       "      <td>1999-07-23 02:38:09</td>\n",
       "    </tr>\n",
       "  </tbody>\n",
       "</table>\n",
       "</div>"
      ],
      "text/plain": [
       "              auth_ts  uid              reg_ts\n",
       "0 1998-11-18 12:43:43    1 1998-11-18 12:43:43\n",
       "1 1999-07-23 02:38:09    2 1999-07-23 02:38:09\n",
       "2 1999-07-25 20:46:46    2 1999-07-23 02:38:09\n",
       "3 1999-07-31 07:50:15    2 1999-07-23 02:38:09\n",
       "4 1999-08-05 21:49:39    2 1999-07-23 02:38:09"
      ]
     },
     "execution_count": 68,
     "metadata": {},
     "output_type": "execute_result"
    }
   ],
   "source": [
    "# проверяем \n",
    "reg_auth.head()"
   ]
  },
  {
   "cell_type": "code",
   "execution_count": 69,
   "metadata": {},
   "outputs": [
    {
     "data": {
      "text/plain": [
       "Timestamp('1998-11-18 12:43:43')"
      ]
     },
     "execution_count": 69,
     "metadata": {},
     "output_type": "execute_result"
    }
   ],
   "source": [
    "# смотрим минимальную \n",
    "reg_auth.auth_ts.min()"
   ]
  },
  {
   "cell_type": "code",
   "execution_count": 70,
   "metadata": {},
   "outputs": [
    {
     "data": {
      "text/plain": [
       "Timestamp('2020-09-23 18:17:24')"
      ]
     },
     "execution_count": 70,
     "metadata": {},
     "output_type": "execute_result"
    }
   ],
   "source": [
    "# и максимальную даты\n",
    "reg_auth.auth_ts.max()"
   ]
  },
  {
   "cell_type": "markdown",
   "metadata": {},
   "source": [
    "Попробуем просчитать Retention в имеющемся датафрейме, чтобы затем написать функцию из этого хода решения. Для этого нам надо првоести когортный анализ"
   ]
  },
  {
   "cell_type": "code",
   "execution_count": 71,
   "metadata": {},
   "outputs": [],
   "source": [
    "# создаем колонки с днем регистрации и днем авторизации, так как нам нужен retention по дням\n",
    "reg_auth['reg_day'] = reg_auth.reg_ts.dt.to_period('D')\n",
    "reg_auth['auth_day'] = reg_auth.auth_ts.dt.to_period('D')"
   ]
  },
  {
   "cell_type": "code",
   "execution_count": 72,
   "metadata": {},
   "outputs": [
    {
     "data": {
      "text/html": [
       "<div>\n",
       "<style scoped>\n",
       "    .dataframe tbody tr th:only-of-type {\n",
       "        vertical-align: middle;\n",
       "    }\n",
       "\n",
       "    .dataframe tbody tr th {\n",
       "        vertical-align: top;\n",
       "    }\n",
       "\n",
       "    .dataframe thead th {\n",
       "        text-align: right;\n",
       "    }\n",
       "</style>\n",
       "<table border=\"1\" class=\"dataframe\">\n",
       "  <thead>\n",
       "    <tr style=\"text-align: right;\">\n",
       "      <th></th>\n",
       "      <th>auth_ts</th>\n",
       "      <th>uid</th>\n",
       "      <th>reg_ts</th>\n",
       "      <th>reg_day</th>\n",
       "      <th>auth_day</th>\n",
       "    </tr>\n",
       "  </thead>\n",
       "  <tbody>\n",
       "    <tr>\n",
       "      <th>0</th>\n",
       "      <td>1998-11-18 12:43:43</td>\n",
       "      <td>1</td>\n",
       "      <td>1998-11-18 12:43:43</td>\n",
       "      <td>1998-11-18</td>\n",
       "      <td>1998-11-18</td>\n",
       "    </tr>\n",
       "    <tr>\n",
       "      <th>1</th>\n",
       "      <td>1999-07-23 02:38:09</td>\n",
       "      <td>2</td>\n",
       "      <td>1999-07-23 02:38:09</td>\n",
       "      <td>1999-07-23</td>\n",
       "      <td>1999-07-23</td>\n",
       "    </tr>\n",
       "    <tr>\n",
       "      <th>2</th>\n",
       "      <td>1999-07-25 20:46:46</td>\n",
       "      <td>2</td>\n",
       "      <td>1999-07-23 02:38:09</td>\n",
       "      <td>1999-07-23</td>\n",
       "      <td>1999-07-25</td>\n",
       "    </tr>\n",
       "    <tr>\n",
       "      <th>3</th>\n",
       "      <td>1999-07-31 07:50:15</td>\n",
       "      <td>2</td>\n",
       "      <td>1999-07-23 02:38:09</td>\n",
       "      <td>1999-07-23</td>\n",
       "      <td>1999-07-31</td>\n",
       "    </tr>\n",
       "    <tr>\n",
       "      <th>4</th>\n",
       "      <td>1999-08-05 21:49:39</td>\n",
       "      <td>2</td>\n",
       "      <td>1999-07-23 02:38:09</td>\n",
       "      <td>1999-07-23</td>\n",
       "      <td>1999-08-05</td>\n",
       "    </tr>\n",
       "  </tbody>\n",
       "</table>\n",
       "</div>"
      ],
      "text/plain": [
       "              auth_ts  uid              reg_ts     reg_day    auth_day\n",
       "0 1998-11-18 12:43:43    1 1998-11-18 12:43:43  1998-11-18  1998-11-18\n",
       "1 1999-07-23 02:38:09    2 1999-07-23 02:38:09  1999-07-23  1999-07-23\n",
       "2 1999-07-25 20:46:46    2 1999-07-23 02:38:09  1999-07-23  1999-07-25\n",
       "3 1999-07-31 07:50:15    2 1999-07-23 02:38:09  1999-07-23  1999-07-31\n",
       "4 1999-08-05 21:49:39    2 1999-07-23 02:38:09  1999-07-23  1999-08-05"
      ]
     },
     "execution_count": 72,
     "metadata": {},
     "output_type": "execute_result"
    }
   ],
   "source": [
    "reg_auth.head()"
   ]
  },
  {
   "cell_type": "code",
   "execution_count": 73,
   "metadata": {},
   "outputs": [
    {
     "data": {
      "text/html": [
       "<div>\n",
       "<style scoped>\n",
       "    .dataframe tbody tr th:only-of-type {\n",
       "        vertical-align: middle;\n",
       "    }\n",
       "\n",
       "    .dataframe tbody tr th {\n",
       "        vertical-align: top;\n",
       "    }\n",
       "\n",
       "    .dataframe thead th {\n",
       "        text-align: right;\n",
       "    }\n",
       "</style>\n",
       "<table border=\"1\" class=\"dataframe\">\n",
       "  <thead>\n",
       "    <tr style=\"text-align: right;\">\n",
       "      <th></th>\n",
       "      <th>auth_ts</th>\n",
       "      <th>uid</th>\n",
       "      <th>reg_ts</th>\n",
       "      <th>reg_day</th>\n",
       "      <th>auth_day</th>\n",
       "    </tr>\n",
       "  </thead>\n",
       "  <tbody>\n",
       "    <tr>\n",
       "      <th>9571916</th>\n",
       "      <td>2020-09-10 00:00:37</td>\n",
       "      <td>1085739</td>\n",
       "      <td>2020-09-10 00:00:37</td>\n",
       "      <td>2020-09-10</td>\n",
       "      <td>2020-09-10</td>\n",
       "    </tr>\n",
       "    <tr>\n",
       "      <th>9571917</th>\n",
       "      <td>2020-09-10 00:01:31</td>\n",
       "      <td>1085740</td>\n",
       "      <td>2020-09-10 00:01:31</td>\n",
       "      <td>2020-09-10</td>\n",
       "      <td>2020-09-10</td>\n",
       "    </tr>\n",
       "    <tr>\n",
       "      <th>9571918</th>\n",
       "      <td>2020-09-10 00:02:25</td>\n",
       "      <td>1085741</td>\n",
       "      <td>2020-09-10 00:02:25</td>\n",
       "      <td>2020-09-10</td>\n",
       "      <td>2020-09-10</td>\n",
       "    </tr>\n",
       "    <tr>\n",
       "      <th>9571919</th>\n",
       "      <td>2020-09-10 00:03:18</td>\n",
       "      <td>1085742</td>\n",
       "      <td>2020-09-10 00:03:18</td>\n",
       "      <td>2020-09-10</td>\n",
       "      <td>2020-09-10</td>\n",
       "    </tr>\n",
       "    <tr>\n",
       "      <th>9571920</th>\n",
       "      <td>2020-09-10 00:04:12</td>\n",
       "      <td>1085744</td>\n",
       "      <td>2020-09-10 00:04:12</td>\n",
       "      <td>2020-09-10</td>\n",
       "      <td>2020-09-10</td>\n",
       "    </tr>\n",
       "    <tr>\n",
       "      <th>...</th>\n",
       "      <td>...</td>\n",
       "      <td>...</td>\n",
       "      <td>...</td>\n",
       "      <td>...</td>\n",
       "      <td>...</td>\n",
       "    </tr>\n",
       "    <tr>\n",
       "      <th>9588668</th>\n",
       "      <td>2020-09-16 23:56:12</td>\n",
       "      <td>1098301</td>\n",
       "      <td>2020-09-16 23:56:12</td>\n",
       "      <td>2020-09-16</td>\n",
       "      <td>2020-09-16</td>\n",
       "    </tr>\n",
       "    <tr>\n",
       "      <th>9588669</th>\n",
       "      <td>2020-09-16 23:57:05</td>\n",
       "      <td>1098302</td>\n",
       "      <td>2020-09-16 23:57:05</td>\n",
       "      <td>2020-09-16</td>\n",
       "      <td>2020-09-16</td>\n",
       "    </tr>\n",
       "    <tr>\n",
       "      <th>9588670</th>\n",
       "      <td>2020-09-16 23:57:58</td>\n",
       "      <td>1098303</td>\n",
       "      <td>2020-09-16 23:57:58</td>\n",
       "      <td>2020-09-16</td>\n",
       "      <td>2020-09-16</td>\n",
       "    </tr>\n",
       "    <tr>\n",
       "      <th>9588671</th>\n",
       "      <td>2020-09-16 23:58:51</td>\n",
       "      <td>1098304</td>\n",
       "      <td>2020-09-16 23:58:51</td>\n",
       "      <td>2020-09-16</td>\n",
       "      <td>2020-09-16</td>\n",
       "    </tr>\n",
       "    <tr>\n",
       "      <th>9588672</th>\n",
       "      <td>2020-09-16 23:59:45</td>\n",
       "      <td>1098305</td>\n",
       "      <td>2020-09-16 23:59:45</td>\n",
       "      <td>2020-09-16</td>\n",
       "      <td>2020-09-16</td>\n",
       "    </tr>\n",
       "  </tbody>\n",
       "</table>\n",
       "<p>16757 rows × 5 columns</p>\n",
       "</div>"
      ],
      "text/plain": [
       "                    auth_ts      uid              reg_ts     reg_day  \\\n",
       "9571916 2020-09-10 00:00:37  1085739 2020-09-10 00:00:37  2020-09-10   \n",
       "9571917 2020-09-10 00:01:31  1085740 2020-09-10 00:01:31  2020-09-10   \n",
       "9571918 2020-09-10 00:02:25  1085741 2020-09-10 00:02:25  2020-09-10   \n",
       "9571919 2020-09-10 00:03:18  1085742 2020-09-10 00:03:18  2020-09-10   \n",
       "9571920 2020-09-10 00:04:12  1085744 2020-09-10 00:04:12  2020-09-10   \n",
       "...                     ...      ...                 ...         ...   \n",
       "9588668 2020-09-16 23:56:12  1098301 2020-09-16 23:56:12  2020-09-16   \n",
       "9588669 2020-09-16 23:57:05  1098302 2020-09-16 23:57:05  2020-09-16   \n",
       "9588670 2020-09-16 23:57:58  1098303 2020-09-16 23:57:58  2020-09-16   \n",
       "9588671 2020-09-16 23:58:51  1098304 2020-09-16 23:58:51  2020-09-16   \n",
       "9588672 2020-09-16 23:59:45  1098305 2020-09-16 23:59:45  2020-09-16   \n",
       "\n",
       "           auth_day  \n",
       "9571916  2020-09-10  \n",
       "9571917  2020-09-10  \n",
       "9571918  2020-09-10  \n",
       "9571919  2020-09-10  \n",
       "9571920  2020-09-10  \n",
       "...             ...  \n",
       "9588668  2020-09-16  \n",
       "9588669  2020-09-16  \n",
       "9588670  2020-09-16  \n",
       "9588671  2020-09-16  \n",
       "9588672  2020-09-16  \n",
       "\n",
       "[16757 rows x 5 columns]"
      ]
     },
     "execution_count": 73,
     "metadata": {},
     "output_type": "execute_result"
    }
   ],
   "source": [
    "# Возьмем, например регистрации за предпоследнюю неделю в данных и период расчета retention \n",
    "# также возьмем 7 дней\n",
    "reg_auth.query('\"2020-09-10\" <= reg_day <= \"2020-09-16\"')"
   ]
  },
  {
   "cell_type": "code",
   "execution_count": 74,
   "metadata": {},
   "outputs": [],
   "source": [
    "# Фильтруем нужные даты регистрации\n",
    "reg_auth_part = reg_auth.query('\"2020-09-10\" <= reg_day <= \"2020-09-16\"')"
   ]
  },
  {
   "cell_type": "code",
   "execution_count": 75,
   "metadata": {},
   "outputs": [
    {
     "data": {
      "text/html": [
       "<div>\n",
       "<style scoped>\n",
       "    .dataframe tbody tr th:only-of-type {\n",
       "        vertical-align: middle;\n",
       "    }\n",
       "\n",
       "    .dataframe tbody tr th {\n",
       "        vertical-align: top;\n",
       "    }\n",
       "\n",
       "    .dataframe thead th {\n",
       "        text-align: right;\n",
       "    }\n",
       "</style>\n",
       "<table border=\"1\" class=\"dataframe\">\n",
       "  <thead>\n",
       "    <tr style=\"text-align: right;\">\n",
       "      <th></th>\n",
       "      <th>reg_day</th>\n",
       "      <th>auth_day</th>\n",
       "      <th>uid</th>\n",
       "    </tr>\n",
       "  </thead>\n",
       "  <tbody>\n",
       "    <tr>\n",
       "      <th>0</th>\n",
       "      <td>2020-09-10</td>\n",
       "      <td>2020-09-10</td>\n",
       "      <td>1609</td>\n",
       "    </tr>\n",
       "    <tr>\n",
       "      <th>1</th>\n",
       "      <td>2020-09-10</td>\n",
       "      <td>2020-09-11</td>\n",
       "      <td>29</td>\n",
       "    </tr>\n",
       "    <tr>\n",
       "      <th>2</th>\n",
       "      <td>2020-09-10</td>\n",
       "      <td>2020-09-12</td>\n",
       "      <td>71</td>\n",
       "    </tr>\n",
       "    <tr>\n",
       "      <th>3</th>\n",
       "      <td>2020-09-10</td>\n",
       "      <td>2020-09-13</td>\n",
       "      <td>74</td>\n",
       "    </tr>\n",
       "    <tr>\n",
       "      <th>4</th>\n",
       "      <td>2020-09-10</td>\n",
       "      <td>2020-09-14</td>\n",
       "      <td>70</td>\n",
       "    </tr>\n",
       "  </tbody>\n",
       "</table>\n",
       "</div>"
      ],
      "text/plain": [
       "      reg_day    auth_day   uid\n",
       "0  2020-09-10  2020-09-10  1609\n",
       "1  2020-09-10  2020-09-11    29\n",
       "2  2020-09-10  2020-09-12    71\n",
       "3  2020-09-10  2020-09-13    74\n",
       "4  2020-09-10  2020-09-14    70"
      ]
     },
     "execution_count": 75,
     "metadata": {},
     "output_type": "execute_result"
    }
   ],
   "source": [
    "# Группируем по дате регистрации и авторизации\n",
    "# и считаем уникальных пользователей\n",
    "cohorts = reg_auth_part.groupby(['reg_day', 'auth_day'], as_index=False) \\\n",
    "              .agg({'uid' : 'nunique'})\n",
    "cohorts.head()"
   ]
  },
  {
   "cell_type": "code",
   "execution_count": 76,
   "metadata": {},
   "outputs": [
    {
     "data": {
      "text/html": [
       "<div>\n",
       "<style scoped>\n",
       "    .dataframe tbody tr th:only-of-type {\n",
       "        vertical-align: middle;\n",
       "    }\n",
       "\n",
       "    .dataframe tbody tr th {\n",
       "        vertical-align: top;\n",
       "    }\n",
       "\n",
       "    .dataframe thead th {\n",
       "        text-align: right;\n",
       "    }\n",
       "</style>\n",
       "<table border=\"1\" class=\"dataframe\">\n",
       "  <thead>\n",
       "    <tr style=\"text-align: right;\">\n",
       "      <th></th>\n",
       "      <th>reg_day</th>\n",
       "      <th>auth_day</th>\n",
       "      <th>uid</th>\n",
       "      <th>days</th>\n",
       "    </tr>\n",
       "  </thead>\n",
       "  <tbody>\n",
       "    <tr>\n",
       "      <th>0</th>\n",
       "      <td>2020-09-10</td>\n",
       "      <td>2020-09-10</td>\n",
       "      <td>1609</td>\n",
       "      <td>0</td>\n",
       "    </tr>\n",
       "    <tr>\n",
       "      <th>1</th>\n",
       "      <td>2020-09-10</td>\n",
       "      <td>2020-09-11</td>\n",
       "      <td>29</td>\n",
       "      <td>1</td>\n",
       "    </tr>\n",
       "    <tr>\n",
       "      <th>2</th>\n",
       "      <td>2020-09-10</td>\n",
       "      <td>2020-09-12</td>\n",
       "      <td>71</td>\n",
       "      <td>2</td>\n",
       "    </tr>\n",
       "    <tr>\n",
       "      <th>3</th>\n",
       "      <td>2020-09-10</td>\n",
       "      <td>2020-09-13</td>\n",
       "      <td>74</td>\n",
       "      <td>3</td>\n",
       "    </tr>\n",
       "    <tr>\n",
       "      <th>4</th>\n",
       "      <td>2020-09-10</td>\n",
       "      <td>2020-09-14</td>\n",
       "      <td>70</td>\n",
       "      <td>4</td>\n",
       "    </tr>\n",
       "  </tbody>\n",
       "</table>\n",
       "</div>"
      ],
      "text/plain": [
       "      reg_day    auth_day   uid  days\n",
       "0  2020-09-10  2020-09-10  1609     0\n",
       "1  2020-09-10  2020-09-11    29     1\n",
       "2  2020-09-10  2020-09-12    71     2\n",
       "3  2020-09-10  2020-09-13    74     3\n",
       "4  2020-09-10  2020-09-14    70     4"
      ]
     },
     "execution_count": 76,
     "metadata": {},
     "output_type": "execute_result"
    }
   ],
   "source": [
    "# Добавляем столбик с количеством дней между авторизациями для нашего когортного анализа\n",
    "cohorts['days'] = cohorts.auth_day.dt.day - cohorts.reg_day.dt.day\n",
    "cohorts = cohorts.query('days <= 7')\n",
    "cohorts.head()"
   ]
  },
  {
   "cell_type": "code",
   "execution_count": 77,
   "metadata": {},
   "outputs": [
    {
     "data": {
      "text/html": [
       "<div>\n",
       "<style scoped>\n",
       "    .dataframe tbody tr th:only-of-type {\n",
       "        vertical-align: middle;\n",
       "    }\n",
       "\n",
       "    .dataframe tbody tr th {\n",
       "        vertical-align: top;\n",
       "    }\n",
       "\n",
       "    .dataframe thead th {\n",
       "        text-align: right;\n",
       "    }\n",
       "</style>\n",
       "<table border=\"1\" class=\"dataframe\">\n",
       "  <thead>\n",
       "    <tr style=\"text-align: right;\">\n",
       "      <th>days</th>\n",
       "      <th>0</th>\n",
       "      <th>1</th>\n",
       "      <th>2</th>\n",
       "      <th>3</th>\n",
       "      <th>4</th>\n",
       "      <th>5</th>\n",
       "      <th>6</th>\n",
       "      <th>7</th>\n",
       "    </tr>\n",
       "    <tr>\n",
       "      <th>reg_day</th>\n",
       "      <th></th>\n",
       "      <th></th>\n",
       "      <th></th>\n",
       "      <th></th>\n",
       "      <th></th>\n",
       "      <th></th>\n",
       "      <th></th>\n",
       "      <th></th>\n",
       "    </tr>\n",
       "  </thead>\n",
       "  <tbody>\n",
       "    <tr>\n",
       "      <th>2020-09-10</th>\n",
       "      <td>1609</td>\n",
       "      <td>29</td>\n",
       "      <td>71</td>\n",
       "      <td>74</td>\n",
       "      <td>70</td>\n",
       "      <td>112</td>\n",
       "      <td>93</td>\n",
       "      <td>110</td>\n",
       "    </tr>\n",
       "    <tr>\n",
       "      <th>2020-09-11</th>\n",
       "      <td>1611</td>\n",
       "      <td>23</td>\n",
       "      <td>64</td>\n",
       "      <td>63</td>\n",
       "      <td>99</td>\n",
       "      <td>102</td>\n",
       "      <td>111</td>\n",
       "      <td>101</td>\n",
       "    </tr>\n",
       "    <tr>\n",
       "      <th>2020-09-12</th>\n",
       "      <td>1614</td>\n",
       "      <td>29</td>\n",
       "      <td>66</td>\n",
       "      <td>64</td>\n",
       "      <td>65</td>\n",
       "      <td>102</td>\n",
       "      <td>111</td>\n",
       "      <td>93</td>\n",
       "    </tr>\n",
       "    <tr>\n",
       "      <th>2020-09-13</th>\n",
       "      <td>1617</td>\n",
       "      <td>36</td>\n",
       "      <td>72</td>\n",
       "      <td>64</td>\n",
       "      <td>81</td>\n",
       "      <td>100</td>\n",
       "      <td>107</td>\n",
       "      <td>84</td>\n",
       "    </tr>\n",
       "    <tr>\n",
       "      <th>2020-09-14</th>\n",
       "      <td>1620</td>\n",
       "      <td>32</td>\n",
       "      <td>63</td>\n",
       "      <td>69</td>\n",
       "      <td>94</td>\n",
       "      <td>102</td>\n",
       "      <td>111</td>\n",
       "      <td>111</td>\n",
       "    </tr>\n",
       "    <tr>\n",
       "      <th>2020-09-15</th>\n",
       "      <td>1622</td>\n",
       "      <td>37</td>\n",
       "      <td>65</td>\n",
       "      <td>73</td>\n",
       "      <td>98</td>\n",
       "      <td>93</td>\n",
       "      <td>113</td>\n",
       "      <td>87</td>\n",
       "    </tr>\n",
       "    <tr>\n",
       "      <th>2020-09-16</th>\n",
       "      <td>1625</td>\n",
       "      <td>34</td>\n",
       "      <td>67</td>\n",
       "      <td>72</td>\n",
       "      <td>81</td>\n",
       "      <td>99</td>\n",
       "      <td>125</td>\n",
       "      <td>65</td>\n",
       "    </tr>\n",
       "  </tbody>\n",
       "</table>\n",
       "</div>"
      ],
      "text/plain": [
       "days           0   1   2   3   4    5    6    7\n",
       "reg_day                                        \n",
       "2020-09-10  1609  29  71  74  70  112   93  110\n",
       "2020-09-11  1611  23  64  63  99  102  111  101\n",
       "2020-09-12  1614  29  66  64  65  102  111   93\n",
       "2020-09-13  1617  36  72  64  81  100  107   84\n",
       "2020-09-14  1620  32  63  69  94  102  111  111\n",
       "2020-09-15  1622  37  65  73  98   93  113   87\n",
       "2020-09-16  1625  34  67  72  81   99  125   65"
      ]
     },
     "execution_count": 77,
     "metadata": {},
     "output_type": "execute_result"
    }
   ],
   "source": [
    "# Делаем сводную таблицу по дням для визуализации когорт\n",
    "cohorts = cohorts.pivot(index='reg_day', columns='days', values='uid')\n",
    "cohorts"
   ]
  },
  {
   "cell_type": "code",
   "execution_count": 78,
   "metadata": {},
   "outputs": [
    {
     "data": {
      "text/html": [
       "<div>\n",
       "<style scoped>\n",
       "    .dataframe tbody tr th:only-of-type {\n",
       "        vertical-align: middle;\n",
       "    }\n",
       "\n",
       "    .dataframe tbody tr th {\n",
       "        vertical-align: top;\n",
       "    }\n",
       "\n",
       "    .dataframe thead th {\n",
       "        text-align: right;\n",
       "    }\n",
       "</style>\n",
       "<table border=\"1\" class=\"dataframe\">\n",
       "  <thead>\n",
       "    <tr style=\"text-align: right;\">\n",
       "      <th>days</th>\n",
       "      <th>1</th>\n",
       "      <th>2</th>\n",
       "      <th>3</th>\n",
       "      <th>4</th>\n",
       "      <th>5</th>\n",
       "      <th>6</th>\n",
       "      <th>7</th>\n",
       "    </tr>\n",
       "    <tr>\n",
       "      <th>reg_day</th>\n",
       "      <th></th>\n",
       "      <th></th>\n",
       "      <th></th>\n",
       "      <th></th>\n",
       "      <th></th>\n",
       "      <th></th>\n",
       "      <th></th>\n",
       "    </tr>\n",
       "  </thead>\n",
       "  <tbody>\n",
       "    <tr>\n",
       "      <th>2020-09-10</th>\n",
       "      <td>0.018024</td>\n",
       "      <td>0.044127</td>\n",
       "      <td>0.045991</td>\n",
       "      <td>0.043505</td>\n",
       "      <td>0.069608</td>\n",
       "      <td>0.057800</td>\n",
       "      <td>0.068365</td>\n",
       "    </tr>\n",
       "    <tr>\n",
       "      <th>2020-09-11</th>\n",
       "      <td>0.014277</td>\n",
       "      <td>0.039727</td>\n",
       "      <td>0.039106</td>\n",
       "      <td>0.061453</td>\n",
       "      <td>0.063315</td>\n",
       "      <td>0.068901</td>\n",
       "      <td>0.062694</td>\n",
       "    </tr>\n",
       "    <tr>\n",
       "      <th>2020-09-12</th>\n",
       "      <td>0.017968</td>\n",
       "      <td>0.040892</td>\n",
       "      <td>0.039653</td>\n",
       "      <td>0.040273</td>\n",
       "      <td>0.063197</td>\n",
       "      <td>0.068773</td>\n",
       "      <td>0.057621</td>\n",
       "    </tr>\n",
       "    <tr>\n",
       "      <th>2020-09-13</th>\n",
       "      <td>0.022263</td>\n",
       "      <td>0.044527</td>\n",
       "      <td>0.039579</td>\n",
       "      <td>0.050093</td>\n",
       "      <td>0.061843</td>\n",
       "      <td>0.066172</td>\n",
       "      <td>0.051948</td>\n",
       "    </tr>\n",
       "    <tr>\n",
       "      <th>2020-09-14</th>\n",
       "      <td>0.019753</td>\n",
       "      <td>0.038889</td>\n",
       "      <td>0.042593</td>\n",
       "      <td>0.058025</td>\n",
       "      <td>0.062963</td>\n",
       "      <td>0.068519</td>\n",
       "      <td>0.068519</td>\n",
       "    </tr>\n",
       "    <tr>\n",
       "      <th>2020-09-15</th>\n",
       "      <td>0.022811</td>\n",
       "      <td>0.040074</td>\n",
       "      <td>0.045006</td>\n",
       "      <td>0.060419</td>\n",
       "      <td>0.057337</td>\n",
       "      <td>0.069667</td>\n",
       "      <td>0.053637</td>\n",
       "    </tr>\n",
       "    <tr>\n",
       "      <th>2020-09-16</th>\n",
       "      <td>0.020923</td>\n",
       "      <td>0.041231</td>\n",
       "      <td>0.044308</td>\n",
       "      <td>0.049846</td>\n",
       "      <td>0.060923</td>\n",
       "      <td>0.076923</td>\n",
       "      <td>0.040000</td>\n",
       "    </tr>\n",
       "  </tbody>\n",
       "</table>\n",
       "</div>"
      ],
      "text/plain": [
       "days               1         2         3         4         5         6  \\\n",
       "reg_day                                                                  \n",
       "2020-09-10  0.018024  0.044127  0.045991  0.043505  0.069608  0.057800   \n",
       "2020-09-11  0.014277  0.039727  0.039106  0.061453  0.063315  0.068901   \n",
       "2020-09-12  0.017968  0.040892  0.039653  0.040273  0.063197  0.068773   \n",
       "2020-09-13  0.022263  0.044527  0.039579  0.050093  0.061843  0.066172   \n",
       "2020-09-14  0.019753  0.038889  0.042593  0.058025  0.062963  0.068519   \n",
       "2020-09-15  0.022811  0.040074  0.045006  0.060419  0.057337  0.069667   \n",
       "2020-09-16  0.020923  0.041231  0.044308  0.049846  0.060923  0.076923   \n",
       "\n",
       "days               7  \n",
       "reg_day               \n",
       "2020-09-10  0.068365  \n",
       "2020-09-11  0.062694  \n",
       "2020-09-12  0.057621  \n",
       "2020-09-13  0.051948  \n",
       "2020-09-14  0.068519  \n",
       "2020-09-15  0.053637  \n",
       "2020-09-16  0.040000  "
      ]
     },
     "execution_count": 78,
     "metadata": {},
     "output_type": "execute_result"
    }
   ],
   "source": [
    "# Переведем данные в доли и уберем первый столбик, так как в день регистрации\n",
    "# все пользоватили, очевидно, и авторизовывались\n",
    "cohorts = cohorts.divide(cohorts.iloc[:,0], axis = 0)\n",
    "cohorts = cohorts.drop(0, axis=1)\n",
    "cohorts"
   ]
  },
  {
   "cell_type": "code",
   "execution_count": 79,
   "metadata": {},
   "outputs": [
    {
     "data": {
      "text/html": [
       "<style  type=\"text/css\" >\n",
       "#T_1322b654_bb04_11ef_bdbb_96000040dfb6row0_col0,#T_1322b654_bb04_11ef_bdbb_96000040dfb6row3_col5{\n",
       "            background-color:  #26828e;\n",
       "            color:  #000000;\n",
       "        }#T_1322b654_bb04_11ef_bdbb_96000040dfb6row0_col1{\n",
       "            background-color:  #d0e11c;\n",
       "            color:  #000000;\n",
       "        }#T_1322b654_bb04_11ef_bdbb_96000040dfb6row0_col2,#T_1322b654_bb04_11ef_bdbb_96000040dfb6row0_col4,#T_1322b654_bb04_11ef_bdbb_96000040dfb6row1_col3,#T_1322b654_bb04_11ef_bdbb_96000040dfb6row3_col1,#T_1322b654_bb04_11ef_bdbb_96000040dfb6row4_col6,#T_1322b654_bb04_11ef_bdbb_96000040dfb6row5_col0,#T_1322b654_bb04_11ef_bdbb_96000040dfb6row6_col5{\n",
       "            background-color:  #fde725;\n",
       "            color:  #000000;\n",
       "        }#T_1322b654_bb04_11ef_bdbb_96000040dfb6row0_col3{\n",
       "            background-color:  #453581;\n",
       "            color:  #f1f1f1;\n",
       "        }#T_1322b654_bb04_11ef_bdbb_96000040dfb6row0_col5,#T_1322b654_bb04_11ef_bdbb_96000040dfb6row1_col0,#T_1322b654_bb04_11ef_bdbb_96000040dfb6row1_col2,#T_1322b654_bb04_11ef_bdbb_96000040dfb6row2_col3,#T_1322b654_bb04_11ef_bdbb_96000040dfb6row4_col1,#T_1322b654_bb04_11ef_bdbb_96000040dfb6row5_col4,#T_1322b654_bb04_11ef_bdbb_96000040dfb6row6_col6{\n",
       "            background-color:  #440154;\n",
       "            color:  #f1f1f1;\n",
       "        }#T_1322b654_bb04_11ef_bdbb_96000040dfb6row0_col6{\n",
       "            background-color:  #fbe723;\n",
       "            color:  #000000;\n",
       "        }#T_1322b654_bb04_11ef_bdbb_96000040dfb6row1_col1{\n",
       "            background-color:  #463480;\n",
       "            color:  #f1f1f1;\n",
       "        }#T_1322b654_bb04_11ef_bdbb_96000040dfb6row1_col4{\n",
       "            background-color:  #228d8d;\n",
       "            color:  #000000;\n",
       "        }#T_1322b654_bb04_11ef_bdbb_96000040dfb6row1_col5{\n",
       "            background-color:  #20a386;\n",
       "            color:  #000000;\n",
       "        }#T_1322b654_bb04_11ef_bdbb_96000040dfb6row1_col6{\n",
       "            background-color:  #77d153;\n",
       "            color:  #000000;\n",
       "        }#T_1322b654_bb04_11ef_bdbb_96000040dfb6row2_col0{\n",
       "            background-color:  #27808e;\n",
       "            color:  #000000;\n",
       "        }#T_1322b654_bb04_11ef_bdbb_96000040dfb6row2_col1{\n",
       "            background-color:  #2e6d8e;\n",
       "            color:  #f1f1f1;\n",
       "        }#T_1322b654_bb04_11ef_bdbb_96000040dfb6row2_col2{\n",
       "            background-color:  #481d6f;\n",
       "            color:  #f1f1f1;\n",
       "        }#T_1322b654_bb04_11ef_bdbb_96000040dfb6row2_col4,#T_1322b654_bb04_11ef_bdbb_96000040dfb6row5_col6{\n",
       "            background-color:  #228b8d;\n",
       "            color:  #000000;\n",
       "        }#T_1322b654_bb04_11ef_bdbb_96000040dfb6row2_col5{\n",
       "            background-color:  #1fa187;\n",
       "            color:  #000000;\n",
       "        }#T_1322b654_bb04_11ef_bdbb_96000040dfb6row2_col6,#T_1322b654_bb04_11ef_bdbb_96000040dfb6row5_col5{\n",
       "            background-color:  #26ad81;\n",
       "            color:  #000000;\n",
       "        }#T_1322b654_bb04_11ef_bdbb_96000040dfb6row3_col0{\n",
       "            background-color:  #d5e21a;\n",
       "            color:  #000000;\n",
       "        }#T_1322b654_bb04_11ef_bdbb_96000040dfb6row3_col2{\n",
       "            background-color:  #481a6c;\n",
       "            color:  #f1f1f1;\n",
       "        }#T_1322b654_bb04_11ef_bdbb_96000040dfb6row3_col3{\n",
       "            background-color:  #24878e;\n",
       "            color:  #000000;\n",
       "        }#T_1322b654_bb04_11ef_bdbb_96000040dfb6row3_col4{\n",
       "            background-color:  #2d718e;\n",
       "            color:  #f1f1f1;\n",
       "        }#T_1322b654_bb04_11ef_bdbb_96000040dfb6row3_col6{\n",
       "            background-color:  #287d8e;\n",
       "            color:  #000000;\n",
       "        }#T_1322b654_bb04_11ef_bdbb_96000040dfb6row4_col0{\n",
       "            background-color:  #2db27d;\n",
       "            color:  #000000;\n",
       "        }#T_1322b654_bb04_11ef_bdbb_96000040dfb6row4_col2{\n",
       "            background-color:  #20928c;\n",
       "            color:  #000000;\n",
       "        }#T_1322b654_bb04_11ef_bdbb_96000040dfb6row4_col3{\n",
       "            background-color:  #93d741;\n",
       "            color:  #000000;\n",
       "        }#T_1322b654_bb04_11ef_bdbb_96000040dfb6row4_col4{\n",
       "            background-color:  #24868e;\n",
       "            color:  #000000;\n",
       "        }#T_1322b654_bb04_11ef_bdbb_96000040dfb6row4_col5{\n",
       "            background-color:  #1f9f88;\n",
       "            color:  #000000;\n",
       "        }#T_1322b654_bb04_11ef_bdbb_96000040dfb6row5_col1{\n",
       "            background-color:  #404688;\n",
       "            color:  #f1f1f1;\n",
       "        }#T_1322b654_bb04_11ef_bdbb_96000040dfb6row5_col2{\n",
       "            background-color:  #a0da39;\n",
       "            color:  #000000;\n",
       "        }#T_1322b654_bb04_11ef_bdbb_96000040dfb6row5_col3{\n",
       "            background-color:  #dfe318;\n",
       "            color:  #000000;\n",
       "        }#T_1322b654_bb04_11ef_bdbb_96000040dfb6row6_col0{\n",
       "            background-color:  #6ece58;\n",
       "            color:  #000000;\n",
       "        }#T_1322b654_bb04_11ef_bdbb_96000040dfb6row6_col1{\n",
       "            background-color:  #287c8e;\n",
       "            color:  #000000;\n",
       "        }#T_1322b654_bb04_11ef_bdbb_96000040dfb6row6_col2{\n",
       "            background-color:  #60ca60;\n",
       "            color:  #000000;\n",
       "        }#T_1322b654_bb04_11ef_bdbb_96000040dfb6row6_col3{\n",
       "            background-color:  #25848e;\n",
       "            color:  #000000;\n",
       "        }#T_1322b654_bb04_11ef_bdbb_96000040dfb6row6_col4{\n",
       "            background-color:  #365d8d;\n",
       "            color:  #f1f1f1;\n",
       "        }</style><table id=\"T_1322b654_bb04_11ef_bdbb_96000040dfb6\" ><thead>    <tr>        <th class=\"index_name level0\" >days</th>        <th class=\"col_heading level0 col0\" >1</th>        <th class=\"col_heading level0 col1\" >2</th>        <th class=\"col_heading level0 col2\" >3</th>        <th class=\"col_heading level0 col3\" >4</th>        <th class=\"col_heading level0 col4\" >5</th>        <th class=\"col_heading level0 col5\" >6</th>        <th class=\"col_heading level0 col6\" >7</th>    </tr>    <tr>        <th class=\"index_name level0\" >reg_day</th>        <th class=\"blank\" ></th>        <th class=\"blank\" ></th>        <th class=\"blank\" ></th>        <th class=\"blank\" ></th>        <th class=\"blank\" ></th>        <th class=\"blank\" ></th>        <th class=\"blank\" ></th>    </tr></thead><tbody>\n",
       "                <tr>\n",
       "                        <th id=\"T_1322b654_bb04_11ef_bdbb_96000040dfb6level0_row0\" class=\"row_heading level0 row0\" >2020-09-10</th>\n",
       "                        <td id=\"T_1322b654_bb04_11ef_bdbb_96000040dfb6row0_col0\" class=\"data row0 col0\" >1.80%</td>\n",
       "                        <td id=\"T_1322b654_bb04_11ef_bdbb_96000040dfb6row0_col1\" class=\"data row0 col1\" >4.41%</td>\n",
       "                        <td id=\"T_1322b654_bb04_11ef_bdbb_96000040dfb6row0_col2\" class=\"data row0 col2\" >4.60%</td>\n",
       "                        <td id=\"T_1322b654_bb04_11ef_bdbb_96000040dfb6row0_col3\" class=\"data row0 col3\" >4.35%</td>\n",
       "                        <td id=\"T_1322b654_bb04_11ef_bdbb_96000040dfb6row0_col4\" class=\"data row0 col4\" >6.96%</td>\n",
       "                        <td id=\"T_1322b654_bb04_11ef_bdbb_96000040dfb6row0_col5\" class=\"data row0 col5\" >5.78%</td>\n",
       "                        <td id=\"T_1322b654_bb04_11ef_bdbb_96000040dfb6row0_col6\" class=\"data row0 col6\" >6.84%</td>\n",
       "            </tr>\n",
       "            <tr>\n",
       "                        <th id=\"T_1322b654_bb04_11ef_bdbb_96000040dfb6level0_row1\" class=\"row_heading level0 row1\" >2020-09-11</th>\n",
       "                        <td id=\"T_1322b654_bb04_11ef_bdbb_96000040dfb6row1_col0\" class=\"data row1 col0\" >1.43%</td>\n",
       "                        <td id=\"T_1322b654_bb04_11ef_bdbb_96000040dfb6row1_col1\" class=\"data row1 col1\" >3.97%</td>\n",
       "                        <td id=\"T_1322b654_bb04_11ef_bdbb_96000040dfb6row1_col2\" class=\"data row1 col2\" >3.91%</td>\n",
       "                        <td id=\"T_1322b654_bb04_11ef_bdbb_96000040dfb6row1_col3\" class=\"data row1 col3\" >6.15%</td>\n",
       "                        <td id=\"T_1322b654_bb04_11ef_bdbb_96000040dfb6row1_col4\" class=\"data row1 col4\" >6.33%</td>\n",
       "                        <td id=\"T_1322b654_bb04_11ef_bdbb_96000040dfb6row1_col5\" class=\"data row1 col5\" >6.89%</td>\n",
       "                        <td id=\"T_1322b654_bb04_11ef_bdbb_96000040dfb6row1_col6\" class=\"data row1 col6\" >6.27%</td>\n",
       "            </tr>\n",
       "            <tr>\n",
       "                        <th id=\"T_1322b654_bb04_11ef_bdbb_96000040dfb6level0_row2\" class=\"row_heading level0 row2\" >2020-09-12</th>\n",
       "                        <td id=\"T_1322b654_bb04_11ef_bdbb_96000040dfb6row2_col0\" class=\"data row2 col0\" >1.80%</td>\n",
       "                        <td id=\"T_1322b654_bb04_11ef_bdbb_96000040dfb6row2_col1\" class=\"data row2 col1\" >4.09%</td>\n",
       "                        <td id=\"T_1322b654_bb04_11ef_bdbb_96000040dfb6row2_col2\" class=\"data row2 col2\" >3.97%</td>\n",
       "                        <td id=\"T_1322b654_bb04_11ef_bdbb_96000040dfb6row2_col3\" class=\"data row2 col3\" >4.03%</td>\n",
       "                        <td id=\"T_1322b654_bb04_11ef_bdbb_96000040dfb6row2_col4\" class=\"data row2 col4\" >6.32%</td>\n",
       "                        <td id=\"T_1322b654_bb04_11ef_bdbb_96000040dfb6row2_col5\" class=\"data row2 col5\" >6.88%</td>\n",
       "                        <td id=\"T_1322b654_bb04_11ef_bdbb_96000040dfb6row2_col6\" class=\"data row2 col6\" >5.76%</td>\n",
       "            </tr>\n",
       "            <tr>\n",
       "                        <th id=\"T_1322b654_bb04_11ef_bdbb_96000040dfb6level0_row3\" class=\"row_heading level0 row3\" >2020-09-13</th>\n",
       "                        <td id=\"T_1322b654_bb04_11ef_bdbb_96000040dfb6row3_col0\" class=\"data row3 col0\" >2.23%</td>\n",
       "                        <td id=\"T_1322b654_bb04_11ef_bdbb_96000040dfb6row3_col1\" class=\"data row3 col1\" >4.45%</td>\n",
       "                        <td id=\"T_1322b654_bb04_11ef_bdbb_96000040dfb6row3_col2\" class=\"data row3 col2\" >3.96%</td>\n",
       "                        <td id=\"T_1322b654_bb04_11ef_bdbb_96000040dfb6row3_col3\" class=\"data row3 col3\" >5.01%</td>\n",
       "                        <td id=\"T_1322b654_bb04_11ef_bdbb_96000040dfb6row3_col4\" class=\"data row3 col4\" >6.18%</td>\n",
       "                        <td id=\"T_1322b654_bb04_11ef_bdbb_96000040dfb6row3_col5\" class=\"data row3 col5\" >6.62%</td>\n",
       "                        <td id=\"T_1322b654_bb04_11ef_bdbb_96000040dfb6row3_col6\" class=\"data row3 col6\" >5.19%</td>\n",
       "            </tr>\n",
       "            <tr>\n",
       "                        <th id=\"T_1322b654_bb04_11ef_bdbb_96000040dfb6level0_row4\" class=\"row_heading level0 row4\" >2020-09-14</th>\n",
       "                        <td id=\"T_1322b654_bb04_11ef_bdbb_96000040dfb6row4_col0\" class=\"data row4 col0\" >1.98%</td>\n",
       "                        <td id=\"T_1322b654_bb04_11ef_bdbb_96000040dfb6row4_col1\" class=\"data row4 col1\" >3.89%</td>\n",
       "                        <td id=\"T_1322b654_bb04_11ef_bdbb_96000040dfb6row4_col2\" class=\"data row4 col2\" >4.26%</td>\n",
       "                        <td id=\"T_1322b654_bb04_11ef_bdbb_96000040dfb6row4_col3\" class=\"data row4 col3\" >5.80%</td>\n",
       "                        <td id=\"T_1322b654_bb04_11ef_bdbb_96000040dfb6row4_col4\" class=\"data row4 col4\" >6.30%</td>\n",
       "                        <td id=\"T_1322b654_bb04_11ef_bdbb_96000040dfb6row4_col5\" class=\"data row4 col5\" >6.85%</td>\n",
       "                        <td id=\"T_1322b654_bb04_11ef_bdbb_96000040dfb6row4_col6\" class=\"data row4 col6\" >6.85%</td>\n",
       "            </tr>\n",
       "            <tr>\n",
       "                        <th id=\"T_1322b654_bb04_11ef_bdbb_96000040dfb6level0_row5\" class=\"row_heading level0 row5\" >2020-09-15</th>\n",
       "                        <td id=\"T_1322b654_bb04_11ef_bdbb_96000040dfb6row5_col0\" class=\"data row5 col0\" >2.28%</td>\n",
       "                        <td id=\"T_1322b654_bb04_11ef_bdbb_96000040dfb6row5_col1\" class=\"data row5 col1\" >4.01%</td>\n",
       "                        <td id=\"T_1322b654_bb04_11ef_bdbb_96000040dfb6row5_col2\" class=\"data row5 col2\" >4.50%</td>\n",
       "                        <td id=\"T_1322b654_bb04_11ef_bdbb_96000040dfb6row5_col3\" class=\"data row5 col3\" >6.04%</td>\n",
       "                        <td id=\"T_1322b654_bb04_11ef_bdbb_96000040dfb6row5_col4\" class=\"data row5 col4\" >5.73%</td>\n",
       "                        <td id=\"T_1322b654_bb04_11ef_bdbb_96000040dfb6row5_col5\" class=\"data row5 col5\" >6.97%</td>\n",
       "                        <td id=\"T_1322b654_bb04_11ef_bdbb_96000040dfb6row5_col6\" class=\"data row5 col6\" >5.36%</td>\n",
       "            </tr>\n",
       "            <tr>\n",
       "                        <th id=\"T_1322b654_bb04_11ef_bdbb_96000040dfb6level0_row6\" class=\"row_heading level0 row6\" >2020-09-16</th>\n",
       "                        <td id=\"T_1322b654_bb04_11ef_bdbb_96000040dfb6row6_col0\" class=\"data row6 col0\" >2.09%</td>\n",
       "                        <td id=\"T_1322b654_bb04_11ef_bdbb_96000040dfb6row6_col1\" class=\"data row6 col1\" >4.12%</td>\n",
       "                        <td id=\"T_1322b654_bb04_11ef_bdbb_96000040dfb6row6_col2\" class=\"data row6 col2\" >4.43%</td>\n",
       "                        <td id=\"T_1322b654_bb04_11ef_bdbb_96000040dfb6row6_col3\" class=\"data row6 col3\" >4.98%</td>\n",
       "                        <td id=\"T_1322b654_bb04_11ef_bdbb_96000040dfb6row6_col4\" class=\"data row6 col4\" >6.09%</td>\n",
       "                        <td id=\"T_1322b654_bb04_11ef_bdbb_96000040dfb6row6_col5\" class=\"data row6 col5\" >7.69%</td>\n",
       "                        <td id=\"T_1322b654_bb04_11ef_bdbb_96000040dfb6row6_col6\" class=\"data row6 col6\" >4.00%</td>\n",
       "            </tr>\n",
       "    </tbody></table>"
      ],
      "text/plain": [
       "<pandas.io.formats.style.Styler at 0x7fd75bd08208>"
      ]
     },
     "execution_count": 79,
     "metadata": {},
     "output_type": "execute_result"
    }
   ],
   "source": [
    "# Стилизуем покащатели retention для наглядности\n",
    "ur_style = (cohorts\n",
    "            .style\n",
    "            .background_gradient(cmap='viridis')  # раскрашиваем ячейки по столбцам\n",
    "            .highlight_null('white')  # делаем белый фон для значений NaN\n",
    "            .format(\"{:.2%}\", na_rep=\"\"))  # числа форматируем как проценты, NaN заменяем на пустоту\n",
    "ur_style"
   ]
  },
  {
   "cell_type": "markdown",
   "metadata": {},
   "source": [
    "Таким образом нам удалось составить таблицу c retention пользователей по дням от различных дат регистрации в диапозоне. Попробуем записать наше решение выше в виде функции"
   ]
  },
  {
   "cell_type": "markdown",
   "metadata": {},
   "source": [
    "В качестве вводных данных нам нужны два датасэта, диапазон дат регистраций (2 крайних даты диапозона) и срок расчета retention"
   ]
  },
  {
   "cell_type": "markdown",
   "metadata": {},
   "source": [
    "### Ответ на задание 1"
   ]
  },
  {
   "cell_type": "code",
   "execution_count": 80,
   "metadata": {},
   "outputs": [],
   "source": [
    "def retention (reg_data, auth_data, first_day, last_day, period):\n",
    "    \n",
    "    # объединение данных и формирование с колонками дат по дням\n",
    "    reg_auth = auth_data.merge(reg_data, on='uid')\n",
    "    reg_auth['auth_ts'] = reg_auth['auth_ts'].apply(lambda x: datetime.fromtimestamp(x))\n",
    "    reg_auth['reg_ts'] = reg_auth['reg_ts'].apply(lambda x: datetime.fromtimestamp(x))\n",
    "    reg_auth['reg_day'] = reg_auth.reg_ts.dt.to_period('D')\n",
    "    reg_auth['auth_day'] = reg_auth.auth_ts.dt.to_period('D')\n",
    "    \n",
    "    # фильтрация регистраций в заданном периоде\n",
    "    reg_auth_part = reg_auth[(reg_auth['reg_day'] >= first_day) & (reg_auth['reg_day'] <= last_day)]\n",
    "    \n",
    "    \n",
    "    # формирование когорт и расчет retention в процентах\n",
    "    cohorts = reg_auth_part.groupby(['reg_day', 'auth_day'], as_index=False) \\\n",
    "              .agg({'uid' : 'nunique'})\n",
    "    cohorts['days'] = cohorts.auth_day.dt.day - cohorts.reg_day.dt.day\n",
    "    cohorts = cohorts[(cohorts['days'] <= period)]\n",
    "    \n",
    "    cohorts = cohorts.pivot(index='reg_day', columns='days', values='uid')\n",
    "    cohorts = cohorts.divide(cohorts.iloc[:,0], axis = 0)\n",
    "    cohorts = cohorts.drop(0, axis=1)\n",
    "    \n",
    "    # визуализация retention по когортам с heatmap\n",
    "    ur_style = (cohorts\n",
    "            .style\n",
    "            .background_gradient(cmap='viridis')\n",
    "            .highlight_null('white')\n",
    "            .format(\"{:.2%}\", na_rep=\"\"))\n",
    "    return ur_style"
   ]
  },
  {
   "cell_type": "markdown",
   "metadata": {},
   "source": [
    "Проверяем на разных участках данных"
   ]
  },
  {
   "cell_type": "code",
   "execution_count": 81,
   "metadata": {},
   "outputs": [
    {
     "data": {
      "text/html": [
       "<style  type=\"text/css\" >\n",
       "#T_56641e6c_bb04_11ef_bdbb_96000040dfb6row0_col0,#T_56641e6c_bb04_11ef_bdbb_96000040dfb6row3_col5{\n",
       "            background-color:  #26828e;\n",
       "            color:  #000000;\n",
       "        }#T_56641e6c_bb04_11ef_bdbb_96000040dfb6row0_col1{\n",
       "            background-color:  #d0e11c;\n",
       "            color:  #000000;\n",
       "        }#T_56641e6c_bb04_11ef_bdbb_96000040dfb6row0_col2,#T_56641e6c_bb04_11ef_bdbb_96000040dfb6row0_col4,#T_56641e6c_bb04_11ef_bdbb_96000040dfb6row1_col3,#T_56641e6c_bb04_11ef_bdbb_96000040dfb6row3_col1,#T_56641e6c_bb04_11ef_bdbb_96000040dfb6row4_col6,#T_56641e6c_bb04_11ef_bdbb_96000040dfb6row5_col0,#T_56641e6c_bb04_11ef_bdbb_96000040dfb6row6_col5{\n",
       "            background-color:  #fde725;\n",
       "            color:  #000000;\n",
       "        }#T_56641e6c_bb04_11ef_bdbb_96000040dfb6row0_col3{\n",
       "            background-color:  #453581;\n",
       "            color:  #f1f1f1;\n",
       "        }#T_56641e6c_bb04_11ef_bdbb_96000040dfb6row0_col5,#T_56641e6c_bb04_11ef_bdbb_96000040dfb6row1_col0,#T_56641e6c_bb04_11ef_bdbb_96000040dfb6row1_col2,#T_56641e6c_bb04_11ef_bdbb_96000040dfb6row2_col3,#T_56641e6c_bb04_11ef_bdbb_96000040dfb6row4_col1,#T_56641e6c_bb04_11ef_bdbb_96000040dfb6row5_col4,#T_56641e6c_bb04_11ef_bdbb_96000040dfb6row6_col6{\n",
       "            background-color:  #440154;\n",
       "            color:  #f1f1f1;\n",
       "        }#T_56641e6c_bb04_11ef_bdbb_96000040dfb6row0_col6{\n",
       "            background-color:  #fbe723;\n",
       "            color:  #000000;\n",
       "        }#T_56641e6c_bb04_11ef_bdbb_96000040dfb6row1_col1{\n",
       "            background-color:  #463480;\n",
       "            color:  #f1f1f1;\n",
       "        }#T_56641e6c_bb04_11ef_bdbb_96000040dfb6row1_col4{\n",
       "            background-color:  #228d8d;\n",
       "            color:  #000000;\n",
       "        }#T_56641e6c_bb04_11ef_bdbb_96000040dfb6row1_col5{\n",
       "            background-color:  #20a386;\n",
       "            color:  #000000;\n",
       "        }#T_56641e6c_bb04_11ef_bdbb_96000040dfb6row1_col6{\n",
       "            background-color:  #77d153;\n",
       "            color:  #000000;\n",
       "        }#T_56641e6c_bb04_11ef_bdbb_96000040dfb6row2_col0{\n",
       "            background-color:  #27808e;\n",
       "            color:  #000000;\n",
       "        }#T_56641e6c_bb04_11ef_bdbb_96000040dfb6row2_col1{\n",
       "            background-color:  #2e6d8e;\n",
       "            color:  #f1f1f1;\n",
       "        }#T_56641e6c_bb04_11ef_bdbb_96000040dfb6row2_col2{\n",
       "            background-color:  #481d6f;\n",
       "            color:  #f1f1f1;\n",
       "        }#T_56641e6c_bb04_11ef_bdbb_96000040dfb6row2_col4,#T_56641e6c_bb04_11ef_bdbb_96000040dfb6row5_col6{\n",
       "            background-color:  #228b8d;\n",
       "            color:  #000000;\n",
       "        }#T_56641e6c_bb04_11ef_bdbb_96000040dfb6row2_col5{\n",
       "            background-color:  #1fa187;\n",
       "            color:  #000000;\n",
       "        }#T_56641e6c_bb04_11ef_bdbb_96000040dfb6row2_col6,#T_56641e6c_bb04_11ef_bdbb_96000040dfb6row5_col5{\n",
       "            background-color:  #26ad81;\n",
       "            color:  #000000;\n",
       "        }#T_56641e6c_bb04_11ef_bdbb_96000040dfb6row3_col0{\n",
       "            background-color:  #d5e21a;\n",
       "            color:  #000000;\n",
       "        }#T_56641e6c_bb04_11ef_bdbb_96000040dfb6row3_col2{\n",
       "            background-color:  #481a6c;\n",
       "            color:  #f1f1f1;\n",
       "        }#T_56641e6c_bb04_11ef_bdbb_96000040dfb6row3_col3{\n",
       "            background-color:  #24878e;\n",
       "            color:  #000000;\n",
       "        }#T_56641e6c_bb04_11ef_bdbb_96000040dfb6row3_col4{\n",
       "            background-color:  #2d718e;\n",
       "            color:  #f1f1f1;\n",
       "        }#T_56641e6c_bb04_11ef_bdbb_96000040dfb6row3_col6{\n",
       "            background-color:  #287d8e;\n",
       "            color:  #000000;\n",
       "        }#T_56641e6c_bb04_11ef_bdbb_96000040dfb6row4_col0{\n",
       "            background-color:  #2db27d;\n",
       "            color:  #000000;\n",
       "        }#T_56641e6c_bb04_11ef_bdbb_96000040dfb6row4_col2{\n",
       "            background-color:  #20928c;\n",
       "            color:  #000000;\n",
       "        }#T_56641e6c_bb04_11ef_bdbb_96000040dfb6row4_col3{\n",
       "            background-color:  #93d741;\n",
       "            color:  #000000;\n",
       "        }#T_56641e6c_bb04_11ef_bdbb_96000040dfb6row4_col4{\n",
       "            background-color:  #24868e;\n",
       "            color:  #000000;\n",
       "        }#T_56641e6c_bb04_11ef_bdbb_96000040dfb6row4_col5{\n",
       "            background-color:  #1f9f88;\n",
       "            color:  #000000;\n",
       "        }#T_56641e6c_bb04_11ef_bdbb_96000040dfb6row5_col1{\n",
       "            background-color:  #404688;\n",
       "            color:  #f1f1f1;\n",
       "        }#T_56641e6c_bb04_11ef_bdbb_96000040dfb6row5_col2{\n",
       "            background-color:  #a0da39;\n",
       "            color:  #000000;\n",
       "        }#T_56641e6c_bb04_11ef_bdbb_96000040dfb6row5_col3{\n",
       "            background-color:  #dfe318;\n",
       "            color:  #000000;\n",
       "        }#T_56641e6c_bb04_11ef_bdbb_96000040dfb6row6_col0{\n",
       "            background-color:  #6ece58;\n",
       "            color:  #000000;\n",
       "        }#T_56641e6c_bb04_11ef_bdbb_96000040dfb6row6_col1{\n",
       "            background-color:  #287c8e;\n",
       "            color:  #000000;\n",
       "        }#T_56641e6c_bb04_11ef_bdbb_96000040dfb6row6_col2{\n",
       "            background-color:  #60ca60;\n",
       "            color:  #000000;\n",
       "        }#T_56641e6c_bb04_11ef_bdbb_96000040dfb6row6_col3{\n",
       "            background-color:  #25848e;\n",
       "            color:  #000000;\n",
       "        }#T_56641e6c_bb04_11ef_bdbb_96000040dfb6row6_col4{\n",
       "            background-color:  #365d8d;\n",
       "            color:  #f1f1f1;\n",
       "        }</style><table id=\"T_56641e6c_bb04_11ef_bdbb_96000040dfb6\" ><thead>    <tr>        <th class=\"index_name level0\" >days</th>        <th class=\"col_heading level0 col0\" >1</th>        <th class=\"col_heading level0 col1\" >2</th>        <th class=\"col_heading level0 col2\" >3</th>        <th class=\"col_heading level0 col3\" >4</th>        <th class=\"col_heading level0 col4\" >5</th>        <th class=\"col_heading level0 col5\" >6</th>        <th class=\"col_heading level0 col6\" >7</th>    </tr>    <tr>        <th class=\"index_name level0\" >reg_day</th>        <th class=\"blank\" ></th>        <th class=\"blank\" ></th>        <th class=\"blank\" ></th>        <th class=\"blank\" ></th>        <th class=\"blank\" ></th>        <th class=\"blank\" ></th>        <th class=\"blank\" ></th>    </tr></thead><tbody>\n",
       "                <tr>\n",
       "                        <th id=\"T_56641e6c_bb04_11ef_bdbb_96000040dfb6level0_row0\" class=\"row_heading level0 row0\" >2020-09-10</th>\n",
       "                        <td id=\"T_56641e6c_bb04_11ef_bdbb_96000040dfb6row0_col0\" class=\"data row0 col0\" >1.80%</td>\n",
       "                        <td id=\"T_56641e6c_bb04_11ef_bdbb_96000040dfb6row0_col1\" class=\"data row0 col1\" >4.41%</td>\n",
       "                        <td id=\"T_56641e6c_bb04_11ef_bdbb_96000040dfb6row0_col2\" class=\"data row0 col2\" >4.60%</td>\n",
       "                        <td id=\"T_56641e6c_bb04_11ef_bdbb_96000040dfb6row0_col3\" class=\"data row0 col3\" >4.35%</td>\n",
       "                        <td id=\"T_56641e6c_bb04_11ef_bdbb_96000040dfb6row0_col4\" class=\"data row0 col4\" >6.96%</td>\n",
       "                        <td id=\"T_56641e6c_bb04_11ef_bdbb_96000040dfb6row0_col5\" class=\"data row0 col5\" >5.78%</td>\n",
       "                        <td id=\"T_56641e6c_bb04_11ef_bdbb_96000040dfb6row0_col6\" class=\"data row0 col6\" >6.84%</td>\n",
       "            </tr>\n",
       "            <tr>\n",
       "                        <th id=\"T_56641e6c_bb04_11ef_bdbb_96000040dfb6level0_row1\" class=\"row_heading level0 row1\" >2020-09-11</th>\n",
       "                        <td id=\"T_56641e6c_bb04_11ef_bdbb_96000040dfb6row1_col0\" class=\"data row1 col0\" >1.43%</td>\n",
       "                        <td id=\"T_56641e6c_bb04_11ef_bdbb_96000040dfb6row1_col1\" class=\"data row1 col1\" >3.97%</td>\n",
       "                        <td id=\"T_56641e6c_bb04_11ef_bdbb_96000040dfb6row1_col2\" class=\"data row1 col2\" >3.91%</td>\n",
       "                        <td id=\"T_56641e6c_bb04_11ef_bdbb_96000040dfb6row1_col3\" class=\"data row1 col3\" >6.15%</td>\n",
       "                        <td id=\"T_56641e6c_bb04_11ef_bdbb_96000040dfb6row1_col4\" class=\"data row1 col4\" >6.33%</td>\n",
       "                        <td id=\"T_56641e6c_bb04_11ef_bdbb_96000040dfb6row1_col5\" class=\"data row1 col5\" >6.89%</td>\n",
       "                        <td id=\"T_56641e6c_bb04_11ef_bdbb_96000040dfb6row1_col6\" class=\"data row1 col6\" >6.27%</td>\n",
       "            </tr>\n",
       "            <tr>\n",
       "                        <th id=\"T_56641e6c_bb04_11ef_bdbb_96000040dfb6level0_row2\" class=\"row_heading level0 row2\" >2020-09-12</th>\n",
       "                        <td id=\"T_56641e6c_bb04_11ef_bdbb_96000040dfb6row2_col0\" class=\"data row2 col0\" >1.80%</td>\n",
       "                        <td id=\"T_56641e6c_bb04_11ef_bdbb_96000040dfb6row2_col1\" class=\"data row2 col1\" >4.09%</td>\n",
       "                        <td id=\"T_56641e6c_bb04_11ef_bdbb_96000040dfb6row2_col2\" class=\"data row2 col2\" >3.97%</td>\n",
       "                        <td id=\"T_56641e6c_bb04_11ef_bdbb_96000040dfb6row2_col3\" class=\"data row2 col3\" >4.03%</td>\n",
       "                        <td id=\"T_56641e6c_bb04_11ef_bdbb_96000040dfb6row2_col4\" class=\"data row2 col4\" >6.32%</td>\n",
       "                        <td id=\"T_56641e6c_bb04_11ef_bdbb_96000040dfb6row2_col5\" class=\"data row2 col5\" >6.88%</td>\n",
       "                        <td id=\"T_56641e6c_bb04_11ef_bdbb_96000040dfb6row2_col6\" class=\"data row2 col6\" >5.76%</td>\n",
       "            </tr>\n",
       "            <tr>\n",
       "                        <th id=\"T_56641e6c_bb04_11ef_bdbb_96000040dfb6level0_row3\" class=\"row_heading level0 row3\" >2020-09-13</th>\n",
       "                        <td id=\"T_56641e6c_bb04_11ef_bdbb_96000040dfb6row3_col0\" class=\"data row3 col0\" >2.23%</td>\n",
       "                        <td id=\"T_56641e6c_bb04_11ef_bdbb_96000040dfb6row3_col1\" class=\"data row3 col1\" >4.45%</td>\n",
       "                        <td id=\"T_56641e6c_bb04_11ef_bdbb_96000040dfb6row3_col2\" class=\"data row3 col2\" >3.96%</td>\n",
       "                        <td id=\"T_56641e6c_bb04_11ef_bdbb_96000040dfb6row3_col3\" class=\"data row3 col3\" >5.01%</td>\n",
       "                        <td id=\"T_56641e6c_bb04_11ef_bdbb_96000040dfb6row3_col4\" class=\"data row3 col4\" >6.18%</td>\n",
       "                        <td id=\"T_56641e6c_bb04_11ef_bdbb_96000040dfb6row3_col5\" class=\"data row3 col5\" >6.62%</td>\n",
       "                        <td id=\"T_56641e6c_bb04_11ef_bdbb_96000040dfb6row3_col6\" class=\"data row3 col6\" >5.19%</td>\n",
       "            </tr>\n",
       "            <tr>\n",
       "                        <th id=\"T_56641e6c_bb04_11ef_bdbb_96000040dfb6level0_row4\" class=\"row_heading level0 row4\" >2020-09-14</th>\n",
       "                        <td id=\"T_56641e6c_bb04_11ef_bdbb_96000040dfb6row4_col0\" class=\"data row4 col0\" >1.98%</td>\n",
       "                        <td id=\"T_56641e6c_bb04_11ef_bdbb_96000040dfb6row4_col1\" class=\"data row4 col1\" >3.89%</td>\n",
       "                        <td id=\"T_56641e6c_bb04_11ef_bdbb_96000040dfb6row4_col2\" class=\"data row4 col2\" >4.26%</td>\n",
       "                        <td id=\"T_56641e6c_bb04_11ef_bdbb_96000040dfb6row4_col3\" class=\"data row4 col3\" >5.80%</td>\n",
       "                        <td id=\"T_56641e6c_bb04_11ef_bdbb_96000040dfb6row4_col4\" class=\"data row4 col4\" >6.30%</td>\n",
       "                        <td id=\"T_56641e6c_bb04_11ef_bdbb_96000040dfb6row4_col5\" class=\"data row4 col5\" >6.85%</td>\n",
       "                        <td id=\"T_56641e6c_bb04_11ef_bdbb_96000040dfb6row4_col6\" class=\"data row4 col6\" >6.85%</td>\n",
       "            </tr>\n",
       "            <tr>\n",
       "                        <th id=\"T_56641e6c_bb04_11ef_bdbb_96000040dfb6level0_row5\" class=\"row_heading level0 row5\" >2020-09-15</th>\n",
       "                        <td id=\"T_56641e6c_bb04_11ef_bdbb_96000040dfb6row5_col0\" class=\"data row5 col0\" >2.28%</td>\n",
       "                        <td id=\"T_56641e6c_bb04_11ef_bdbb_96000040dfb6row5_col1\" class=\"data row5 col1\" >4.01%</td>\n",
       "                        <td id=\"T_56641e6c_bb04_11ef_bdbb_96000040dfb6row5_col2\" class=\"data row5 col2\" >4.50%</td>\n",
       "                        <td id=\"T_56641e6c_bb04_11ef_bdbb_96000040dfb6row5_col3\" class=\"data row5 col3\" >6.04%</td>\n",
       "                        <td id=\"T_56641e6c_bb04_11ef_bdbb_96000040dfb6row5_col4\" class=\"data row5 col4\" >5.73%</td>\n",
       "                        <td id=\"T_56641e6c_bb04_11ef_bdbb_96000040dfb6row5_col5\" class=\"data row5 col5\" >6.97%</td>\n",
       "                        <td id=\"T_56641e6c_bb04_11ef_bdbb_96000040dfb6row5_col6\" class=\"data row5 col6\" >5.36%</td>\n",
       "            </tr>\n",
       "            <tr>\n",
       "                        <th id=\"T_56641e6c_bb04_11ef_bdbb_96000040dfb6level0_row6\" class=\"row_heading level0 row6\" >2020-09-16</th>\n",
       "                        <td id=\"T_56641e6c_bb04_11ef_bdbb_96000040dfb6row6_col0\" class=\"data row6 col0\" >2.09%</td>\n",
       "                        <td id=\"T_56641e6c_bb04_11ef_bdbb_96000040dfb6row6_col1\" class=\"data row6 col1\" >4.12%</td>\n",
       "                        <td id=\"T_56641e6c_bb04_11ef_bdbb_96000040dfb6row6_col2\" class=\"data row6 col2\" >4.43%</td>\n",
       "                        <td id=\"T_56641e6c_bb04_11ef_bdbb_96000040dfb6row6_col3\" class=\"data row6 col3\" >4.98%</td>\n",
       "                        <td id=\"T_56641e6c_bb04_11ef_bdbb_96000040dfb6row6_col4\" class=\"data row6 col4\" >6.09%</td>\n",
       "                        <td id=\"T_56641e6c_bb04_11ef_bdbb_96000040dfb6row6_col5\" class=\"data row6 col5\" >7.69%</td>\n",
       "                        <td id=\"T_56641e6c_bb04_11ef_bdbb_96000040dfb6row6_col6\" class=\"data row6 col6\" >4.00%</td>\n",
       "            </tr>\n",
       "    </tbody></table>"
      ],
      "text/plain": [
       "<pandas.io.formats.style.Styler at 0x7fd75b874dd8>"
      ]
     },
     "execution_count": 81,
     "metadata": {},
     "output_type": "execute_result"
    }
   ],
   "source": [
    "retention(reg, auth, '2020-09-10', '2020-09-16', 7)"
   ]
  },
  {
   "cell_type": "code",
   "execution_count": 82,
   "metadata": {},
   "outputs": [
    {
     "data": {
      "text/html": [
       "<style  type=\"text/css\" >\n",
       "#T_7d5cf4b2_bb04_11ef_bdbb_96000040dfb6row0_col0{\n",
       "            background-color:  #31668e;\n",
       "            color:  #f1f1f1;\n",
       "        }#T_7d5cf4b2_bb04_11ef_bdbb_96000040dfb6row0_col1{\n",
       "            background-color:  #7ad151;\n",
       "            color:  #000000;\n",
       "        }#T_7d5cf4b2_bb04_11ef_bdbb_96000040dfb6row0_col2{\n",
       "            background-color:  #4ac16d;\n",
       "            color:  #000000;\n",
       "        }#T_7d5cf4b2_bb04_11ef_bdbb_96000040dfb6row0_col3,#T_7d5cf4b2_bb04_11ef_bdbb_96000040dfb6row0_col4,#T_7d5cf4b2_bb04_11ef_bdbb_96000040dfb6row2_col2,#T_7d5cf4b2_bb04_11ef_bdbb_96000040dfb6row3_col0,#T_7d5cf4b2_bb04_11ef_bdbb_96000040dfb6row3_col1{\n",
       "            background-color:  #fde725;\n",
       "            color:  #000000;\n",
       "        }#T_7d5cf4b2_bb04_11ef_bdbb_96000040dfb6row0_col5,#T_7d5cf4b2_bb04_11ef_bdbb_96000040dfb6row1_col4,#T_7d5cf4b2_bb04_11ef_bdbb_96000040dfb6row2_col3,#T_7d5cf4b2_bb04_11ef_bdbb_96000040dfb6row3_col2,#T_7d5cf4b2_bb04_11ef_bdbb_96000040dfb6row4_col1,#T_7d5cf4b2_bb04_11ef_bdbb_96000040dfb6row5_col0{\n",
       "            background-color:  #440154;\n",
       "            color:  #f1f1f1;\n",
       "        }#T_7d5cf4b2_bb04_11ef_bdbb_96000040dfb6row1_col0{\n",
       "            background-color:  #89d548;\n",
       "            color:  #000000;\n",
       "        }#T_7d5cf4b2_bb04_11ef_bdbb_96000040dfb6row1_col1{\n",
       "            background-color:  #c0df25;\n",
       "            color:  #000000;\n",
       "        }#T_7d5cf4b2_bb04_11ef_bdbb_96000040dfb6row1_col2{\n",
       "            background-color:  #a0da39;\n",
       "            color:  #000000;\n",
       "        }#T_7d5cf4b2_bb04_11ef_bdbb_96000040dfb6row1_col3{\n",
       "            background-color:  #33628d;\n",
       "            color:  #f1f1f1;\n",
       "        }#T_7d5cf4b2_bb04_11ef_bdbb_96000040dfb6row1_col5,#T_7d5cf4b2_bb04_11ef_bdbb_96000040dfb6row2_col5,#T_7d5cf4b2_bb04_11ef_bdbb_96000040dfb6row3_col5,#T_7d5cf4b2_bb04_11ef_bdbb_96000040dfb6row4_col5,#T_7d5cf4b2_bb04_11ef_bdbb_96000040dfb6row5_col5,#T_7d5cf4b2_bb04_11ef_bdbb_96000040dfb6row6_col5{\n",
       "            background-color:  #440154;\n",
       "            color:  #f1f1f1;\n",
       "            background-color:  white;\n",
       "        }#T_7d5cf4b2_bb04_11ef_bdbb_96000040dfb6row2_col0{\n",
       "            background-color:  #20928c;\n",
       "            color:  #000000;\n",
       "        }#T_7d5cf4b2_bb04_11ef_bdbb_96000040dfb6row2_col1{\n",
       "            background-color:  #306a8e;\n",
       "            color:  #f1f1f1;\n",
       "        }#T_7d5cf4b2_bb04_11ef_bdbb_96000040dfb6row2_col4,#T_7d5cf4b2_bb04_11ef_bdbb_96000040dfb6row3_col3,#T_7d5cf4b2_bb04_11ef_bdbb_96000040dfb6row3_col4,#T_7d5cf4b2_bb04_11ef_bdbb_96000040dfb6row4_col2,#T_7d5cf4b2_bb04_11ef_bdbb_96000040dfb6row4_col3,#T_7d5cf4b2_bb04_11ef_bdbb_96000040dfb6row4_col4,#T_7d5cf4b2_bb04_11ef_bdbb_96000040dfb6row5_col1,#T_7d5cf4b2_bb04_11ef_bdbb_96000040dfb6row5_col2,#T_7d5cf4b2_bb04_11ef_bdbb_96000040dfb6row5_col3,#T_7d5cf4b2_bb04_11ef_bdbb_96000040dfb6row5_col4,#T_7d5cf4b2_bb04_11ef_bdbb_96000040dfb6row6_col0,#T_7d5cf4b2_bb04_11ef_bdbb_96000040dfb6row6_col1,#T_7d5cf4b2_bb04_11ef_bdbb_96000040dfb6row6_col2,#T_7d5cf4b2_bb04_11ef_bdbb_96000040dfb6row6_col3,#T_7d5cf4b2_bb04_11ef_bdbb_96000040dfb6row6_col4{\n",
       "            background-color:  #000000;\n",
       "            color:  #f1f1f1;\n",
       "            background-color:  white;\n",
       "        }#T_7d5cf4b2_bb04_11ef_bdbb_96000040dfb6row4_col0{\n",
       "            background-color:  #26828e;\n",
       "            color:  #000000;\n",
       "        }</style><table id=\"T_7d5cf4b2_bb04_11ef_bdbb_96000040dfb6\" ><thead>    <tr>        <th class=\"index_name level0\" >days</th>        <th class=\"col_heading level0 col0\" >1</th>        <th class=\"col_heading level0 col1\" >2</th>        <th class=\"col_heading level0 col2\" >3</th>        <th class=\"col_heading level0 col3\" >4</th>        <th class=\"col_heading level0 col4\" >5</th>        <th class=\"col_heading level0 col5\" >6</th>    </tr>    <tr>        <th class=\"index_name level0\" >reg_day</th>        <th class=\"blank\" ></th>        <th class=\"blank\" ></th>        <th class=\"blank\" ></th>        <th class=\"blank\" ></th>        <th class=\"blank\" ></th>        <th class=\"blank\" ></th>    </tr></thead><tbody>\n",
       "                <tr>\n",
       "                        <th id=\"T_7d5cf4b2_bb04_11ef_bdbb_96000040dfb6level0_row0\" class=\"row_heading level0 row0\" >2020-09-17</th>\n",
       "                        <td id=\"T_7d5cf4b2_bb04_11ef_bdbb_96000040dfb6row0_col0\" class=\"data row0 col0\" >1.66%</td>\n",
       "                        <td id=\"T_7d5cf4b2_bb04_11ef_bdbb_96000040dfb6row0_col1\" class=\"data row0 col1\" >4.12%</td>\n",
       "                        <td id=\"T_7d5cf4b2_bb04_11ef_bdbb_96000040dfb6row0_col2\" class=\"data row0 col2\" >4.36%</td>\n",
       "                        <td id=\"T_7d5cf4b2_bb04_11ef_bdbb_96000040dfb6row0_col3\" class=\"data row0 col3\" >5.90%</td>\n",
       "                        <td id=\"T_7d5cf4b2_bb04_11ef_bdbb_96000040dfb6row0_col4\" class=\"data row0 col4\" >6.21%</td>\n",
       "                        <td id=\"T_7d5cf4b2_bb04_11ef_bdbb_96000040dfb6row0_col5\" class=\"data row0 col5\" >5.53%</td>\n",
       "            </tr>\n",
       "            <tr>\n",
       "                        <th id=\"T_7d5cf4b2_bb04_11ef_bdbb_96000040dfb6level0_row1\" class=\"row_heading level0 row1\" >2020-09-18</th>\n",
       "                        <td id=\"T_7d5cf4b2_bb04_11ef_bdbb_96000040dfb6row1_col0\" class=\"data row1 col0\" >2.15%</td>\n",
       "                        <td id=\"T_7d5cf4b2_bb04_11ef_bdbb_96000040dfb6row1_col1\" class=\"data row1 col1\" >4.23%</td>\n",
       "                        <td id=\"T_7d5cf4b2_bb04_11ef_bdbb_96000040dfb6row1_col2\" class=\"data row1 col2\" >4.54%</td>\n",
       "                        <td id=\"T_7d5cf4b2_bb04_11ef_bdbb_96000040dfb6row1_col3\" class=\"data row1 col3\" >4.66%</td>\n",
       "                        <td id=\"T_7d5cf4b2_bb04_11ef_bdbb_96000040dfb6row1_col4\" class=\"data row1 col4\" >4.48%</td>\n",
       "                        <td id=\"T_7d5cf4b2_bb04_11ef_bdbb_96000040dfb6row1_col5\" class=\"data row1 col5\" ></td>\n",
       "            </tr>\n",
       "            <tr>\n",
       "                        <th id=\"T_7d5cf4b2_bb04_11ef_bdbb_96000040dfb6level0_row2\" class=\"row_heading level0 row2\" >2020-09-19</th>\n",
       "                        <td id=\"T_7d5cf4b2_bb04_11ef_bdbb_96000040dfb6row2_col0\" class=\"data row2 col0\" >1.84%</td>\n",
       "                        <td id=\"T_7d5cf4b2_bb04_11ef_bdbb_96000040dfb6row2_col1\" class=\"data row2 col1\" >3.61%</td>\n",
       "                        <td id=\"T_7d5cf4b2_bb04_11ef_bdbb_96000040dfb6row2_col2\" class=\"data row2 col2\" >4.72%</td>\n",
       "                        <td id=\"T_7d5cf4b2_bb04_11ef_bdbb_96000040dfb6row2_col3\" class=\"data row2 col3\" >4.10%</td>\n",
       "                        <td id=\"T_7d5cf4b2_bb04_11ef_bdbb_96000040dfb6row2_col4\" class=\"data row2 col4\" ></td>\n",
       "                        <td id=\"T_7d5cf4b2_bb04_11ef_bdbb_96000040dfb6row2_col5\" class=\"data row2 col5\" ></td>\n",
       "            </tr>\n",
       "            <tr>\n",
       "                        <th id=\"T_7d5cf4b2_bb04_11ef_bdbb_96000040dfb6level0_row3\" class=\"row_heading level0 row3\" >2020-09-20</th>\n",
       "                        <td id=\"T_7d5cf4b2_bb04_11ef_bdbb_96000040dfb6row3_col0\" class=\"data row3 col0\" >2.32%</td>\n",
       "                        <td id=\"T_7d5cf4b2_bb04_11ef_bdbb_96000040dfb6row3_col1\" class=\"data row3 col1\" >4.34%</td>\n",
       "                        <td id=\"T_7d5cf4b2_bb04_11ef_bdbb_96000040dfb6row3_col2\" class=\"data row3 col2\" >3.48%</td>\n",
       "                        <td id=\"T_7d5cf4b2_bb04_11ef_bdbb_96000040dfb6row3_col3\" class=\"data row3 col3\" ></td>\n",
       "                        <td id=\"T_7d5cf4b2_bb04_11ef_bdbb_96000040dfb6row3_col4\" class=\"data row3 col4\" ></td>\n",
       "                        <td id=\"T_7d5cf4b2_bb04_11ef_bdbb_96000040dfb6row3_col5\" class=\"data row3 col5\" ></td>\n",
       "            </tr>\n",
       "            <tr>\n",
       "                        <th id=\"T_7d5cf4b2_bb04_11ef_bdbb_96000040dfb6level0_row4\" class=\"row_heading level0 row4\" >2020-09-21</th>\n",
       "                        <td id=\"T_7d5cf4b2_bb04_11ef_bdbb_96000040dfb6row4_col0\" class=\"data row4 col0\" >1.77%</td>\n",
       "                        <td id=\"T_7d5cf4b2_bb04_11ef_bdbb_96000040dfb6row4_col1\" class=\"data row4 col1\" >3.24%</td>\n",
       "                        <td id=\"T_7d5cf4b2_bb04_11ef_bdbb_96000040dfb6row4_col2\" class=\"data row4 col2\" ></td>\n",
       "                        <td id=\"T_7d5cf4b2_bb04_11ef_bdbb_96000040dfb6row4_col3\" class=\"data row4 col3\" ></td>\n",
       "                        <td id=\"T_7d5cf4b2_bb04_11ef_bdbb_96000040dfb6row4_col4\" class=\"data row4 col4\" ></td>\n",
       "                        <td id=\"T_7d5cf4b2_bb04_11ef_bdbb_96000040dfb6row4_col5\" class=\"data row4 col5\" ></td>\n",
       "            </tr>\n",
       "            <tr>\n",
       "                        <th id=\"T_7d5cf4b2_bb04_11ef_bdbb_96000040dfb6level0_row5\" class=\"row_heading level0 row5\" >2020-09-22</th>\n",
       "                        <td id=\"T_7d5cf4b2_bb04_11ef_bdbb_96000040dfb6row5_col0\" class=\"data row5 col0\" >1.34%</td>\n",
       "                        <td id=\"T_7d5cf4b2_bb04_11ef_bdbb_96000040dfb6row5_col1\" class=\"data row5 col1\" ></td>\n",
       "                        <td id=\"T_7d5cf4b2_bb04_11ef_bdbb_96000040dfb6row5_col2\" class=\"data row5 col2\" ></td>\n",
       "                        <td id=\"T_7d5cf4b2_bb04_11ef_bdbb_96000040dfb6row5_col3\" class=\"data row5 col3\" ></td>\n",
       "                        <td id=\"T_7d5cf4b2_bb04_11ef_bdbb_96000040dfb6row5_col4\" class=\"data row5 col4\" ></td>\n",
       "                        <td id=\"T_7d5cf4b2_bb04_11ef_bdbb_96000040dfb6row5_col5\" class=\"data row5 col5\" ></td>\n",
       "            </tr>\n",
       "            <tr>\n",
       "                        <th id=\"T_7d5cf4b2_bb04_11ef_bdbb_96000040dfb6level0_row6\" class=\"row_heading level0 row6\" >2020-09-23</th>\n",
       "                        <td id=\"T_7d5cf4b2_bb04_11ef_bdbb_96000040dfb6row6_col0\" class=\"data row6 col0\" ></td>\n",
       "                        <td id=\"T_7d5cf4b2_bb04_11ef_bdbb_96000040dfb6row6_col1\" class=\"data row6 col1\" ></td>\n",
       "                        <td id=\"T_7d5cf4b2_bb04_11ef_bdbb_96000040dfb6row6_col2\" class=\"data row6 col2\" ></td>\n",
       "                        <td id=\"T_7d5cf4b2_bb04_11ef_bdbb_96000040dfb6row6_col3\" class=\"data row6 col3\" ></td>\n",
       "                        <td id=\"T_7d5cf4b2_bb04_11ef_bdbb_96000040dfb6row6_col4\" class=\"data row6 col4\" ></td>\n",
       "                        <td id=\"T_7d5cf4b2_bb04_11ef_bdbb_96000040dfb6row6_col5\" class=\"data row6 col5\" ></td>\n",
       "            </tr>\n",
       "    </tbody></table>"
      ],
      "text/plain": [
       "<pandas.io.formats.style.Styler at 0x7fd75b817160>"
      ]
     },
     "execution_count": 82,
     "metadata": {},
     "output_type": "execute_result"
    }
   ],
   "source": [
    "retention(reg, auth, '2020-09-17', '2020-09-23', 7)"
   ]
  },
  {
   "cell_type": "code",
   "execution_count": 83,
   "metadata": {},
   "outputs": [
    {
     "data": {
      "text/html": [
       "<style  type=\"text/css\" >\n",
       "#T_9917d9c4_bb04_11ef_bdbb_96000040dfb6row0_col0{\n",
       "            background-color:  #472c7a;\n",
       "            color:  #f1f1f1;\n",
       "        }#T_9917d9c4_bb04_11ef_bdbb_96000040dfb6row0_col1{\n",
       "            background-color:  #23a983;\n",
       "            color:  #000000;\n",
       "        }#T_9917d9c4_bb04_11ef_bdbb_96000040dfb6row0_col2,#T_9917d9c4_bb04_11ef_bdbb_96000040dfb6row6_col5{\n",
       "            background-color:  #443b84;\n",
       "            color:  #f1f1f1;\n",
       "        }#T_9917d9c4_bb04_11ef_bdbb_96000040dfb6row0_col3{\n",
       "            background-color:  #414487;\n",
       "            color:  #f1f1f1;\n",
       "        }#T_9917d9c4_bb04_11ef_bdbb_96000040dfb6row0_col4{\n",
       "            background-color:  #482173;\n",
       "            color:  #f1f1f1;\n",
       "        }#T_9917d9c4_bb04_11ef_bdbb_96000040dfb6row0_col5,#T_9917d9c4_bb04_11ef_bdbb_96000040dfb6row1_col8,#T_9917d9c4_bb04_11ef_bdbb_96000040dfb6row3_col0,#T_9917d9c4_bb04_11ef_bdbb_96000040dfb6row3_col3,#T_9917d9c4_bb04_11ef_bdbb_96000040dfb6row3_col6,#T_9917d9c4_bb04_11ef_bdbb_96000040dfb6row4_col10,#T_9917d9c4_bb04_11ef_bdbb_96000040dfb6row5_col4,#T_9917d9c4_bb04_11ef_bdbb_96000040dfb6row5_col9,#T_9917d9c4_bb04_11ef_bdbb_96000040dfb6row5_col11,#T_9917d9c4_bb04_11ef_bdbb_96000040dfb6row6_col7,#T_9917d9c4_bb04_11ef_bdbb_96000040dfb6row7_col1,#T_9917d9c4_bb04_11ef_bdbb_96000040dfb6row7_col2{\n",
       "            background-color:  #440154;\n",
       "            color:  #f1f1f1;\n",
       "        }#T_9917d9c4_bb04_11ef_bdbb_96000040dfb6row0_col6,#T_9917d9c4_bb04_11ef_bdbb_96000040dfb6row1_col7{\n",
       "            background-color:  #3aba76;\n",
       "            color:  #000000;\n",
       "        }#T_9917d9c4_bb04_11ef_bdbb_96000040dfb6row0_col7{\n",
       "            background-color:  #287d8e;\n",
       "            color:  #000000;\n",
       "        }#T_9917d9c4_bb04_11ef_bdbb_96000040dfb6row0_col8{\n",
       "            background-color:  #26818e;\n",
       "            color:  #000000;\n",
       "        }#T_9917d9c4_bb04_11ef_bdbb_96000040dfb6row0_col9{\n",
       "            background-color:  #3e4c8a;\n",
       "            color:  #f1f1f1;\n",
       "        }#T_9917d9c4_bb04_11ef_bdbb_96000040dfb6row0_col10,#T_9917d9c4_bb04_11ef_bdbb_96000040dfb6row7_col0{\n",
       "            background-color:  #460b5e;\n",
       "            color:  #f1f1f1;\n",
       "        }#T_9917d9c4_bb04_11ef_bdbb_96000040dfb6row0_col11{\n",
       "            background-color:  #3f4788;\n",
       "            color:  #f1f1f1;\n",
       "        }#T_9917d9c4_bb04_11ef_bdbb_96000040dfb6row1_col0,#T_9917d9c4_bb04_11ef_bdbb_96000040dfb6row6_col3{\n",
       "            background-color:  #472a7a;\n",
       "            color:  #f1f1f1;\n",
       "        }#T_9917d9c4_bb04_11ef_bdbb_96000040dfb6row1_col1,#T_9917d9c4_bb04_11ef_bdbb_96000040dfb6row4_col5{\n",
       "            background-color:  #238a8d;\n",
       "            color:  #000000;\n",
       "        }#T_9917d9c4_bb04_11ef_bdbb_96000040dfb6row1_col2{\n",
       "            background-color:  #2e6d8e;\n",
       "            color:  #f1f1f1;\n",
       "        }#T_9917d9c4_bb04_11ef_bdbb_96000040dfb6row1_col3{\n",
       "            background-color:  #e7e419;\n",
       "            color:  #000000;\n",
       "        }#T_9917d9c4_bb04_11ef_bdbb_96000040dfb6row1_col4{\n",
       "            background-color:  #3d4e8a;\n",
       "            color:  #f1f1f1;\n",
       "        }#T_9917d9c4_bb04_11ef_bdbb_96000040dfb6row1_col5{\n",
       "            background-color:  #306a8e;\n",
       "            color:  #f1f1f1;\n",
       "        }#T_9917d9c4_bb04_11ef_bdbb_96000040dfb6row1_col6,#T_9917d9c4_bb04_11ef_bdbb_96000040dfb6row2_col7{\n",
       "            background-color:  #37b878;\n",
       "            color:  #000000;\n",
       "        }#T_9917d9c4_bb04_11ef_bdbb_96000040dfb6row1_col9{\n",
       "            background-color:  #470d60;\n",
       "            color:  #f1f1f1;\n",
       "        }#T_9917d9c4_bb04_11ef_bdbb_96000040dfb6row1_col10,#T_9917d9c4_bb04_11ef_bdbb_96000040dfb6row1_col11{\n",
       "            background-color:  #d2e21b;\n",
       "            color:  #000000;\n",
       "        }#T_9917d9c4_bb04_11ef_bdbb_96000040dfb6row2_col0{\n",
       "            background-color:  #33628d;\n",
       "            color:  #f1f1f1;\n",
       "        }#T_9917d9c4_bb04_11ef_bdbb_96000040dfb6row2_col1,#T_9917d9c4_bb04_11ef_bdbb_96000040dfb6row2_col3,#T_9917d9c4_bb04_11ef_bdbb_96000040dfb6row2_col5,#T_9917d9c4_bb04_11ef_bdbb_96000040dfb6row2_col8,#T_9917d9c4_bb04_11ef_bdbb_96000040dfb6row2_col9,#T_9917d9c4_bb04_11ef_bdbb_96000040dfb6row2_col11,#T_9917d9c4_bb04_11ef_bdbb_96000040dfb6row5_col0,#T_9917d9c4_bb04_11ef_bdbb_96000040dfb6row5_col7,#T_9917d9c4_bb04_11ef_bdbb_96000040dfb6row6_col2,#T_9917d9c4_bb04_11ef_bdbb_96000040dfb6row6_col10,#T_9917d9c4_bb04_11ef_bdbb_96000040dfb6row7_col4,#T_9917d9c4_bb04_11ef_bdbb_96000040dfb6row7_col6{\n",
       "            background-color:  #fde725;\n",
       "            color:  #000000;\n",
       "        }#T_9917d9c4_bb04_11ef_bdbb_96000040dfb6row2_col2{\n",
       "            background-color:  #7cd250;\n",
       "            color:  #000000;\n",
       "        }#T_9917d9c4_bb04_11ef_bdbb_96000040dfb6row2_col4{\n",
       "            background-color:  #75d054;\n",
       "            color:  #000000;\n",
       "        }#T_9917d9c4_bb04_11ef_bdbb_96000040dfb6row2_col6,#T_9917d9c4_bb04_11ef_bdbb_96000040dfb6row4_col7{\n",
       "            background-color:  #44bf70;\n",
       "            color:  #000000;\n",
       "        }#T_9917d9c4_bb04_11ef_bdbb_96000040dfb6row2_col10{\n",
       "            background-color:  #2cb17e;\n",
       "            color:  #000000;\n",
       "        }#T_9917d9c4_bb04_11ef_bdbb_96000040dfb6row3_col1{\n",
       "            background-color:  #3e4989;\n",
       "            color:  #f1f1f1;\n",
       "        }#T_9917d9c4_bb04_11ef_bdbb_96000040dfb6row3_col2,#T_9917d9c4_bb04_11ef_bdbb_96000040dfb6row7_col3{\n",
       "            background-color:  #58c765;\n",
       "            color:  #000000;\n",
       "        }#T_9917d9c4_bb04_11ef_bdbb_96000040dfb6row3_col4,#T_9917d9c4_bb04_11ef_bdbb_96000040dfb6row7_col11{\n",
       "            background-color:  #70cf57;\n",
       "            color:  #000000;\n",
       "        }#T_9917d9c4_bb04_11ef_bdbb_96000040dfb6row3_col5{\n",
       "            background-color:  #228b8d;\n",
       "            color:  #000000;\n",
       "        }#T_9917d9c4_bb04_11ef_bdbb_96000040dfb6row3_col7,#T_9917d9c4_bb04_11ef_bdbb_96000040dfb6row6_col0{\n",
       "            background-color:  #1f988b;\n",
       "            color:  #000000;\n",
       "        }#T_9917d9c4_bb04_11ef_bdbb_96000040dfb6row3_col8{\n",
       "            background-color:  #31678e;\n",
       "            color:  #f1f1f1;\n",
       "        }#T_9917d9c4_bb04_11ef_bdbb_96000040dfb6row3_col9{\n",
       "            background-color:  #2c738e;\n",
       "            color:  #f1f1f1;\n",
       "        }#T_9917d9c4_bb04_11ef_bdbb_96000040dfb6row3_col10{\n",
       "            background-color:  #450457;\n",
       "            color:  #f1f1f1;\n",
       "        }#T_9917d9c4_bb04_11ef_bdbb_96000040dfb6row3_col11{\n",
       "            background-color:  #277e8e;\n",
       "            color:  #000000;\n",
       "        }#T_9917d9c4_bb04_11ef_bdbb_96000040dfb6row4_col0{\n",
       "            background-color:  #453581;\n",
       "            color:  #f1f1f1;\n",
       "        }#T_9917d9c4_bb04_11ef_bdbb_96000040dfb6row4_col1{\n",
       "            background-color:  #2c728e;\n",
       "            color:  #f1f1f1;\n",
       "        }#T_9917d9c4_bb04_11ef_bdbb_96000040dfb6row4_col2{\n",
       "            background-color:  #24878e;\n",
       "            color:  #000000;\n",
       "        }#T_9917d9c4_bb04_11ef_bdbb_96000040dfb6row4_col3{\n",
       "            background-color:  #481f70;\n",
       "            color:  #f1f1f1;\n",
       "        }#T_9917d9c4_bb04_11ef_bdbb_96000040dfb6row4_col4{\n",
       "            background-color:  #26ad81;\n",
       "            color:  #000000;\n",
       "        }#T_9917d9c4_bb04_11ef_bdbb_96000040dfb6row4_col6{\n",
       "            background-color:  #433d84;\n",
       "            color:  #f1f1f1;\n",
       "        }#T_9917d9c4_bb04_11ef_bdbb_96000040dfb6row4_col8{\n",
       "            background-color:  #21a585;\n",
       "            color:  #000000;\n",
       "        }#T_9917d9c4_bb04_11ef_bdbb_96000040dfb6row4_col9,#T_9917d9c4_bb04_11ef_bdbb_96000040dfb6row5_col10{\n",
       "            background-color:  #25ac82;\n",
       "            color:  #000000;\n",
       "        }#T_9917d9c4_bb04_11ef_bdbb_96000040dfb6row4_col11{\n",
       "            background-color:  #482071;\n",
       "            color:  #f1f1f1;\n",
       "        }#T_9917d9c4_bb04_11ef_bdbb_96000040dfb6row5_col1{\n",
       "            background-color:  #21908d;\n",
       "            color:  #000000;\n",
       "        }#T_9917d9c4_bb04_11ef_bdbb_96000040dfb6row5_col2{\n",
       "            background-color:  #89d548;\n",
       "            color:  #000000;\n",
       "        }#T_9917d9c4_bb04_11ef_bdbb_96000040dfb6row5_col3{\n",
       "            background-color:  #48c16e;\n",
       "            color:  #000000;\n",
       "        }#T_9917d9c4_bb04_11ef_bdbb_96000040dfb6row5_col5{\n",
       "            background-color:  #2a778e;\n",
       "            color:  #000000;\n",
       "        }#T_9917d9c4_bb04_11ef_bdbb_96000040dfb6row5_col6{\n",
       "            background-color:  #a8db34;\n",
       "            color:  #000000;\n",
       "        }#T_9917d9c4_bb04_11ef_bdbb_96000040dfb6row5_col8{\n",
       "            background-color:  #3bbb75;\n",
       "            color:  #000000;\n",
       "        }#T_9917d9c4_bb04_11ef_bdbb_96000040dfb6row6_col1{\n",
       "            background-color:  #2d718e;\n",
       "            color:  #f1f1f1;\n",
       "        }#T_9917d9c4_bb04_11ef_bdbb_96000040dfb6row6_col4,#T_9917d9c4_bb04_11ef_bdbb_96000040dfb6row7_col9{\n",
       "            background-color:  #46c06f;\n",
       "            color:  #000000;\n",
       "        }#T_9917d9c4_bb04_11ef_bdbb_96000040dfb6row6_col6{\n",
       "            background-color:  #24868e;\n",
       "            color:  #000000;\n",
       "        }#T_9917d9c4_bb04_11ef_bdbb_96000040dfb6row6_col8{\n",
       "            background-color:  #2f6b8e;\n",
       "            color:  #f1f1f1;\n",
       "        }#T_9917d9c4_bb04_11ef_bdbb_96000040dfb6row6_col9{\n",
       "            background-color:  #482878;\n",
       "            color:  #f1f1f1;\n",
       "        }#T_9917d9c4_bb04_11ef_bdbb_96000040dfb6row6_col11{\n",
       "            background-color:  #2ab07f;\n",
       "            color:  #000000;\n",
       "        }#T_9917d9c4_bb04_11ef_bdbb_96000040dfb6row7_col5{\n",
       "            background-color:  #20928c;\n",
       "            color:  #000000;\n",
       "        }#T_9917d9c4_bb04_11ef_bdbb_96000040dfb6row7_col7{\n",
       "            background-color:  #1e9d89;\n",
       "            color:  #000000;\n",
       "        }#T_9917d9c4_bb04_11ef_bdbb_96000040dfb6row7_col8{\n",
       "            background-color:  #42be71;\n",
       "            color:  #000000;\n",
       "        }#T_9917d9c4_bb04_11ef_bdbb_96000040dfb6row7_col10{\n",
       "            background-color:  #31b57b;\n",
       "            color:  #000000;\n",
       "        }</style><table id=\"T_9917d9c4_bb04_11ef_bdbb_96000040dfb6\" ><thead>    <tr>        <th class=\"index_name level0\" >days</th>        <th class=\"col_heading level0 col0\" >1</th>        <th class=\"col_heading level0 col1\" >2</th>        <th class=\"col_heading level0 col2\" >3</th>        <th class=\"col_heading level0 col3\" >4</th>        <th class=\"col_heading level0 col4\" >5</th>        <th class=\"col_heading level0 col5\" >6</th>        <th class=\"col_heading level0 col6\" >7</th>        <th class=\"col_heading level0 col7\" >8</th>        <th class=\"col_heading level0 col8\" >9</th>        <th class=\"col_heading level0 col9\" >10</th>        <th class=\"col_heading level0 col10\" >11</th>        <th class=\"col_heading level0 col11\" >12</th>    </tr>    <tr>        <th class=\"index_name level0\" >reg_day</th>        <th class=\"blank\" ></th>        <th class=\"blank\" ></th>        <th class=\"blank\" ></th>        <th class=\"blank\" ></th>        <th class=\"blank\" ></th>        <th class=\"blank\" ></th>        <th class=\"blank\" ></th>        <th class=\"blank\" ></th>        <th class=\"blank\" ></th>        <th class=\"blank\" ></th>        <th class=\"blank\" ></th>        <th class=\"blank\" ></th>    </tr></thead><tbody>\n",
       "                <tr>\n",
       "                        <th id=\"T_9917d9c4_bb04_11ef_bdbb_96000040dfb6level0_row0\" class=\"row_heading level0 row0\" >2020-09-01</th>\n",
       "                        <td id=\"T_9917d9c4_bb04_11ef_bdbb_96000040dfb6row0_col0\" class=\"data row0 col0\" >2.08%</td>\n",
       "                        <td id=\"T_9917d9c4_bb04_11ef_bdbb_96000040dfb6row0_col1\" class=\"data row0 col1\" >4.48%</td>\n",
       "                        <td id=\"T_9917d9c4_bb04_11ef_bdbb_96000040dfb6row0_col2\" class=\"data row0 col2\" >3.79%</td>\n",
       "                        <td id=\"T_9917d9c4_bb04_11ef_bdbb_96000040dfb6row0_col3\" class=\"data row0 col3\" >5.11%</td>\n",
       "                        <td id=\"T_9917d9c4_bb04_11ef_bdbb_96000040dfb6row0_col4\" class=\"data row0 col4\" >5.93%</td>\n",
       "                        <td id=\"T_9917d9c4_bb04_11ef_bdbb_96000040dfb6row0_col5\" class=\"data row0 col5\" >5.93%</td>\n",
       "                        <td id=\"T_9917d9c4_bb04_11ef_bdbb_96000040dfb6row0_col6\" class=\"data row0 col6\" >6.12%</td>\n",
       "                        <td id=\"T_9917d9c4_bb04_11ef_bdbb_96000040dfb6row0_col7\" class=\"data row0 col7\" >4.79%</td>\n",
       "                        <td id=\"T_9917d9c4_bb04_11ef_bdbb_96000040dfb6row0_col8\" class=\"data row0 col8\" >4.92%</td>\n",
       "                        <td id=\"T_9917d9c4_bb04_11ef_bdbb_96000040dfb6row0_col9\" class=\"data row0 col9\" >5.74%</td>\n",
       "                        <td id=\"T_9917d9c4_bb04_11ef_bdbb_96000040dfb6row0_col10\" class=\"data row0 col10\" >4.92%</td>\n",
       "                        <td id=\"T_9917d9c4_bb04_11ef_bdbb_96000040dfb6row0_col11\" class=\"data row0 col11\" >4.79%</td>\n",
       "            </tr>\n",
       "            <tr>\n",
       "                        <th id=\"T_9917d9c4_bb04_11ef_bdbb_96000040dfb6level0_row1\" class=\"row_heading level0 row1\" >2020-09-02</th>\n",
       "                        <td id=\"T_9917d9c4_bb04_11ef_bdbb_96000040dfb6row1_col0\" class=\"data row1 col0\" >2.08%</td>\n",
       "                        <td id=\"T_9917d9c4_bb04_11ef_bdbb_96000040dfb6row1_col1\" class=\"data row1 col1\" >4.28%</td>\n",
       "                        <td id=\"T_9917d9c4_bb04_11ef_bdbb_96000040dfb6row1_col2\" class=\"data row1 col2\" >4.16%</td>\n",
       "                        <td id=\"T_9917d9c4_bb04_11ef_bdbb_96000040dfb6row1_col3\" class=\"data row1 col3\" >6.17%</td>\n",
       "                        <td id=\"T_9917d9c4_bb04_11ef_bdbb_96000040dfb6row1_col4\" class=\"data row1 col4\" >6.11%</td>\n",
       "                        <td id=\"T_9917d9c4_bb04_11ef_bdbb_96000040dfb6row1_col5\" class=\"data row1 col5\" >6.80%</td>\n",
       "                        <td id=\"T_9917d9c4_bb04_11ef_bdbb_96000040dfb6row1_col6\" class=\"data row1 col6\" >6.11%</td>\n",
       "                        <td id=\"T_9917d9c4_bb04_11ef_bdbb_96000040dfb6row1_col7\" class=\"data row1 col7\" >5.16%</td>\n",
       "                        <td id=\"T_9917d9c4_bb04_11ef_bdbb_96000040dfb6row1_col8\" class=\"data row1 col8\" >3.78%</td>\n",
       "                        <td id=\"T_9917d9c4_bb04_11ef_bdbb_96000040dfb6row1_col9\" class=\"data row1 col9\" >5.54%</td>\n",
       "                        <td id=\"T_9917d9c4_bb04_11ef_bdbb_96000040dfb6row1_col10\" class=\"data row1 col10\" >5.92%</td>\n",
       "                        <td id=\"T_9917d9c4_bb04_11ef_bdbb_96000040dfb6row1_col11\" class=\"data row1 col11\" >5.35%</td>\n",
       "            </tr>\n",
       "            <tr>\n",
       "                        <th id=\"T_9917d9c4_bb04_11ef_bdbb_96000040dfb6level0_row2\" class=\"row_heading level0 row2\" >2020-09-03</th>\n",
       "                        <td id=\"T_9917d9c4_bb04_11ef_bdbb_96000040dfb6row2_col0\" class=\"data row2 col0\" >2.39%</td>\n",
       "                        <td id=\"T_9917d9c4_bb04_11ef_bdbb_96000040dfb6row2_col1\" class=\"data row2 col1\" >5.09%</td>\n",
       "                        <td id=\"T_9917d9c4_bb04_11ef_bdbb_96000040dfb6row2_col2\" class=\"data row2 col2\" >5.09%</td>\n",
       "                        <td id=\"T_9917d9c4_bb04_11ef_bdbb_96000040dfb6row2_col3\" class=\"data row2 col3\" >6.22%</td>\n",
       "                        <td id=\"T_9917d9c4_bb04_11ef_bdbb_96000040dfb6row2_col4\" class=\"data row2 col4\" >6.79%</td>\n",
       "                        <td id=\"T_9917d9c4_bb04_11ef_bdbb_96000040dfb6row2_col5\" class=\"data row2 col5\" >8.49%</td>\n",
       "                        <td id=\"T_9917d9c4_bb04_11ef_bdbb_96000040dfb6row2_col6\" class=\"data row2 col6\" >6.16%</td>\n",
       "                        <td id=\"T_9917d9c4_bb04_11ef_bdbb_96000040dfb6row2_col7\" class=\"data row2 col7\" >5.15%</td>\n",
       "                        <td id=\"T_9917d9c4_bb04_11ef_bdbb_96000040dfb6row2_col8\" class=\"data row2 col8\" >6.41%</td>\n",
       "                        <td id=\"T_9917d9c4_bb04_11ef_bdbb_96000040dfb6row2_col9\" class=\"data row2 col9\" >6.54%</td>\n",
       "                        <td id=\"T_9917d9c4_bb04_11ef_bdbb_96000040dfb6row2_col10\" class=\"data row2 col10\" >5.59%</td>\n",
       "                        <td id=\"T_9917d9c4_bb04_11ef_bdbb_96000040dfb6row2_col11\" class=\"data row2 col11\" >5.41%</td>\n",
       "            </tr>\n",
       "            <tr>\n",
       "                        <th id=\"T_9917d9c4_bb04_11ef_bdbb_96000040dfb6level0_row3\" class=\"row_heading level0 row3\" >2020-09-04</th>\n",
       "                        <td id=\"T_9917d9c4_bb04_11ef_bdbb_96000040dfb6row3_col0\" class=\"data row3 col0\" >1.88%</td>\n",
       "                        <td id=\"T_9917d9c4_bb04_11ef_bdbb_96000040dfb6row3_col1\" class=\"data row3 col1\" >3.89%</td>\n",
       "                        <td id=\"T_9917d9c4_bb04_11ef_bdbb_96000040dfb6row3_col2\" class=\"data row3 col2\" >4.96%</td>\n",
       "                        <td id=\"T_9917d9c4_bb04_11ef_bdbb_96000040dfb6row3_col3\" class=\"data row3 col3\" >4.83%</td>\n",
       "                        <td id=\"T_9917d9c4_bb04_11ef_bdbb_96000040dfb6row3_col4\" class=\"data row3 col4\" >6.78%</td>\n",
       "                        <td id=\"T_9917d9c4_bb04_11ef_bdbb_96000040dfb6row3_col5\" class=\"data row3 col5\" >7.16%</td>\n",
       "                        <td id=\"T_9917d9c4_bb04_11ef_bdbb_96000040dfb6row3_col6\" class=\"data row3 col6\" >4.96%</td>\n",
       "                        <td id=\"T_9917d9c4_bb04_11ef_bdbb_96000040dfb6row3_col7\" class=\"data row3 col7\" >4.96%</td>\n",
       "                        <td id=\"T_9917d9c4_bb04_11ef_bdbb_96000040dfb6row3_col8\" class=\"data row3 col8\" >4.65%</td>\n",
       "                        <td id=\"T_9917d9c4_bb04_11ef_bdbb_96000040dfb6row3_col9\" class=\"data row3 col9\" >5.90%</td>\n",
       "                        <td id=\"T_9917d9c4_bb04_11ef_bdbb_96000040dfb6row3_col10\" class=\"data row3 col10\" >4.90%</td>\n",
       "                        <td id=\"T_9917d9c4_bb04_11ef_bdbb_96000040dfb6row3_col11\" class=\"data row3 col11\" >4.96%</td>\n",
       "            </tr>\n",
       "            <tr>\n",
       "                        <th id=\"T_9917d9c4_bb04_11ef_bdbb_96000040dfb6level0_row4\" class=\"row_heading level0 row4\" >2020-09-05</th>\n",
       "                        <td id=\"T_9917d9c4_bb04_11ef_bdbb_96000040dfb6row4_col0\" class=\"data row4 col0\" >2.13%</td>\n",
       "                        <td id=\"T_9917d9c4_bb04_11ef_bdbb_96000040dfb6row4_col1\" class=\"data row4 col1\" >4.14%</td>\n",
       "                        <td id=\"T_9917d9c4_bb04_11ef_bdbb_96000040dfb6row4_col2\" class=\"data row4 col2\" >4.39%</td>\n",
       "                        <td id=\"T_9917d9c4_bb04_11ef_bdbb_96000040dfb6row4_col3\" class=\"data row4 col3\" >4.95%</td>\n",
       "                        <td id=\"T_9917d9c4_bb04_11ef_bdbb_96000040dfb6row4_col4\" class=\"data row4 col4\" >6.58%</td>\n",
       "                        <td id=\"T_9917d9c4_bb04_11ef_bdbb_96000040dfb6row4_col5\" class=\"data row4 col5\" >7.14%</td>\n",
       "                        <td id=\"T_9917d9c4_bb04_11ef_bdbb_96000040dfb6row4_col6\" class=\"data row4 col6\" >5.26%</td>\n",
       "                        <td id=\"T_9917d9c4_bb04_11ef_bdbb_96000040dfb6row4_col7\" class=\"data row4 col7\" >5.20%</td>\n",
       "                        <td id=\"T_9917d9c4_bb04_11ef_bdbb_96000040dfb6row4_col8\" class=\"data row4 col8\" >5.33%</td>\n",
       "                        <td id=\"T_9917d9c4_bb04_11ef_bdbb_96000040dfb6row4_col9\" class=\"data row4 col9\" >6.14%</td>\n",
       "                        <td id=\"T_9917d9c4_bb04_11ef_bdbb_96000040dfb6row4_col10\" class=\"data row4 col10\" >4.89%</td>\n",
       "                        <td id=\"T_9917d9c4_bb04_11ef_bdbb_96000040dfb6row4_col11\" class=\"data row4 col11\" >4.70%</td>\n",
       "            </tr>\n",
       "            <tr>\n",
       "                        <th id=\"T_9917d9c4_bb04_11ef_bdbb_96000040dfb6level0_row5\" class=\"row_heading level0 row5\" >2020-09-06</th>\n",
       "                        <td id=\"T_9917d9c4_bb04_11ef_bdbb_96000040dfb6row5_col0\" class=\"data row5 col0\" >3.50%</td>\n",
       "                        <td id=\"T_9917d9c4_bb04_11ef_bdbb_96000040dfb6row5_col1\" class=\"data row5 col1\" >4.32%</td>\n",
       "                        <td id=\"T_9917d9c4_bb04_11ef_bdbb_96000040dfb6row5_col2\" class=\"data row5 col2\" >5.13%</td>\n",
       "                        <td id=\"T_9917d9c4_bb04_11ef_bdbb_96000040dfb6row5_col3\" class=\"data row5 col3\" >5.82%</td>\n",
       "                        <td id=\"T_9917d9c4_bb04_11ef_bdbb_96000040dfb6row5_col4\" class=\"data row5 col4\" >5.82%</td>\n",
       "                        <td id=\"T_9917d9c4_bb04_11ef_bdbb_96000040dfb6row5_col5\" class=\"data row5 col5\" >6.95%</td>\n",
       "                        <td id=\"T_9917d9c4_bb04_11ef_bdbb_96000040dfb6row5_col6\" class=\"data row5 col6\" >6.45%</td>\n",
       "                        <td id=\"T_9917d9c4_bb04_11ef_bdbb_96000040dfb6row5_col7\" class=\"data row5 col7\" >5.63%</td>\n",
       "                        <td id=\"T_9917d9c4_bb04_11ef_bdbb_96000040dfb6row5_col8\" class=\"data row5 col8\" >5.57%</td>\n",
       "                        <td id=\"T_9917d9c4_bb04_11ef_bdbb_96000040dfb6row5_col9\" class=\"data row5 col9\" >5.51%</td>\n",
       "                        <td id=\"T_9917d9c4_bb04_11ef_bdbb_96000040dfb6row5_col10\" class=\"data row5 col10\" >5.57%</td>\n",
       "                        <td id=\"T_9917d9c4_bb04_11ef_bdbb_96000040dfb6row5_col11\" class=\"data row5 col11\" >4.63%</td>\n",
       "            </tr>\n",
       "            <tr>\n",
       "                        <th id=\"T_9917d9c4_bb04_11ef_bdbb_96000040dfb6level0_row6\" class=\"row_heading level0 row6\" >2020-09-07</th>\n",
       "                        <td id=\"T_9917d9c4_bb04_11ef_bdbb_96000040dfb6row6_col0\" class=\"data row6 col0\" >2.75%</td>\n",
       "                        <td id=\"T_9917d9c4_bb04_11ef_bdbb_96000040dfb6row6_col1\" class=\"data row6 col1\" >4.12%</td>\n",
       "                        <td id=\"T_9917d9c4_bb04_11ef_bdbb_96000040dfb6row6_col2\" class=\"data row6 col2\" >5.50%</td>\n",
       "                        <td id=\"T_9917d9c4_bb04_11ef_bdbb_96000040dfb6row6_col3\" class=\"data row6 col3\" >5.00%</td>\n",
       "                        <td id=\"T_9917d9c4_bb04_11ef_bdbb_96000040dfb6row6_col4\" class=\"data row6 col4\" >6.68%</td>\n",
       "                        <td id=\"T_9917d9c4_bb04_11ef_bdbb_96000040dfb6row6_col5\" class=\"data row6 col5\" >6.37%</td>\n",
       "                        <td id=\"T_9917d9c4_bb04_11ef_bdbb_96000040dfb6row6_col6\" class=\"data row6 col6\" >5.75%</td>\n",
       "                        <td id=\"T_9917d9c4_bb04_11ef_bdbb_96000040dfb6row6_col7\" class=\"data row6 col7\" >4.18%</td>\n",
       "                        <td id=\"T_9917d9c4_bb04_11ef_bdbb_96000040dfb6row6_col8\" class=\"data row6 col8\" >4.68%</td>\n",
       "                        <td id=\"T_9917d9c4_bb04_11ef_bdbb_96000040dfb6row6_col9\" class=\"data row6 col9\" >5.62%</td>\n",
       "                        <td id=\"T_9917d9c4_bb04_11ef_bdbb_96000040dfb6row6_col10\" class=\"data row6 col10\" >6.00%</td>\n",
       "                        <td id=\"T_9917d9c4_bb04_11ef_bdbb_96000040dfb6row6_col11\" class=\"data row6 col11\" >5.12%</td>\n",
       "            </tr>\n",
       "            <tr>\n",
       "                        <th id=\"T_9917d9c4_bb04_11ef_bdbb_96000040dfb6level0_row7\" class=\"row_heading level0 row7\" >2020-09-08</th>\n",
       "                        <td id=\"T_9917d9c4_bb04_11ef_bdbb_96000040dfb6row7_col0\" class=\"data row7 col0\" >1.93%</td>\n",
       "                        <td id=\"T_9917d9c4_bb04_11ef_bdbb_96000040dfb6row7_col1\" class=\"data row7 col1\" >3.55%</td>\n",
       "                        <td id=\"T_9917d9c4_bb04_11ef_bdbb_96000040dfb6row7_col2\" class=\"data row7 col2\" >3.43%</td>\n",
       "                        <td id=\"T_9917d9c4_bb04_11ef_bdbb_96000040dfb6row7_col3\" class=\"data row7 col3\" >5.86%</td>\n",
       "                        <td id=\"T_9917d9c4_bb04_11ef_bdbb_96000040dfb6row7_col4\" class=\"data row7 col4\" >7.04%</td>\n",
       "                        <td id=\"T_9917d9c4_bb04_11ef_bdbb_96000040dfb6row7_col5\" class=\"data row7 col5\" >7.23%</td>\n",
       "                        <td id=\"T_9917d9c4_bb04_11ef_bdbb_96000040dfb6row7_col6\" class=\"data row7 col6\" >6.67%</td>\n",
       "                        <td id=\"T_9917d9c4_bb04_11ef_bdbb_96000040dfb6row7_col7\" class=\"data row7 col7\" >4.99%</td>\n",
       "                        <td id=\"T_9917d9c4_bb04_11ef_bdbb_96000040dfb6row7_col8\" class=\"data row7 col8\" >5.61%</td>\n",
       "                        <td id=\"T_9917d9c4_bb04_11ef_bdbb_96000040dfb6row7_col9\" class=\"data row7 col9\" >6.23%</td>\n",
       "                        <td id=\"T_9917d9c4_bb04_11ef_bdbb_96000040dfb6row7_col10\" class=\"data row7 col10\" >5.61%</td>\n",
       "                        <td id=\"T_9917d9c4_bb04_11ef_bdbb_96000040dfb6row7_col11\" class=\"data row7 col11\" >5.24%</td>\n",
       "            </tr>\n",
       "    </tbody></table>"
      ],
      "text/plain": [
       "<pandas.io.formats.style.Styler at 0x7fd73c6ea5f8>"
      ]
     },
     "execution_count": 83,
     "metadata": {},
     "output_type": "execute_result"
    }
   ],
   "source": [
    "retention(reg, auth, '2020-09-01', '2020-09-08', 12)"
   ]
  },
  {
   "cell_type": "markdown",
   "metadata": {},
   "source": [
    "# Задание 2"
   ]
  },
  {
   "cell_type": "markdown",
   "metadata": {},
   "source": [
    "Проведен A/B-тест, в котором пользователям предлагались разные варианты акционных предложений. Установлено, что ARPU в тестовой группе выше на 5% по сравнению с контрольной.\n",
    "\n",
    "При этом:\n",
    "\n",
    "В контрольной группе 1928 из 202103 пользователей совершили покупки.\\\n",
    "В тестовой группе 1805 из 202667 игроков стали платящими.\\\n",
    "Вопросы для анализа:\n",
    "\n",
    "Какой из вариантов предложений является наиболее эффективным?\\\n",
    "Какие метрики следует рассмотреть для корректного вывода?\\\n",
    "Каким образом провести анализ?"
   ]
  },
  {
   "cell_type": "code",
   "execution_count": 84,
   "metadata": {},
   "outputs": [],
   "source": [
    "# используем api \n",
    "base_url = 'https://cloud-api.yandex.net/v1/disk/public/resources/download?' \n",
    "public_key_df = 'https://disk.yandex.ru/d/SOkIsD5A8xlI7Q'\n",
    " \n",
    "# получаем url \n",
    "final_url_df = base_url + urlencode(dict(public_key=public_key_df)) \n",
    "response_df = requests.get(final_url_df) \n",
    "download_url_df = response_df.json()['href']\n",
    "\n",
    "# загружаем файлы в df \n",
    "download_response_df = requests.get(download_url_df) \n",
    "df = pd.read_csv(download_url_df, sep=';') "
   ]
  },
  {
   "cell_type": "code",
   "execution_count": 86,
   "metadata": {},
   "outputs": [
    {
     "data": {
      "text/html": [
       "<div>\n",
       "<style scoped>\n",
       "    .dataframe tbody tr th:only-of-type {\n",
       "        vertical-align: middle;\n",
       "    }\n",
       "\n",
       "    .dataframe tbody tr th {\n",
       "        vertical-align: top;\n",
       "    }\n",
       "\n",
       "    .dataframe thead th {\n",
       "        text-align: right;\n",
       "    }\n",
       "</style>\n",
       "<table border=\"1\" class=\"dataframe\">\n",
       "  <thead>\n",
       "    <tr style=\"text-align: right;\">\n",
       "      <th></th>\n",
       "      <th>user_id</th>\n",
       "      <th>revenue</th>\n",
       "      <th>testgroup</th>\n",
       "    </tr>\n",
       "  </thead>\n",
       "  <tbody>\n",
       "    <tr>\n",
       "      <th>0</th>\n",
       "      <td>1</td>\n",
       "      <td>0</td>\n",
       "      <td>b</td>\n",
       "    </tr>\n",
       "    <tr>\n",
       "      <th>1</th>\n",
       "      <td>2</td>\n",
       "      <td>0</td>\n",
       "      <td>a</td>\n",
       "    </tr>\n",
       "    <tr>\n",
       "      <th>2</th>\n",
       "      <td>3</td>\n",
       "      <td>0</td>\n",
       "      <td>a</td>\n",
       "    </tr>\n",
       "    <tr>\n",
       "      <th>3</th>\n",
       "      <td>4</td>\n",
       "      <td>0</td>\n",
       "      <td>b</td>\n",
       "    </tr>\n",
       "    <tr>\n",
       "      <th>4</th>\n",
       "      <td>5</td>\n",
       "      <td>0</td>\n",
       "      <td>b</td>\n",
       "    </tr>\n",
       "  </tbody>\n",
       "</table>\n",
       "</div>"
      ],
      "text/plain": [
       "   user_id  revenue testgroup\n",
       "0        1        0         b\n",
       "1        2        0         a\n",
       "2        3        0         a\n",
       "3        4        0         b\n",
       "4        5        0         b"
      ]
     },
     "execution_count": 86,
     "metadata": {},
     "output_type": "execute_result"
    }
   ],
   "source": [
    "# смотрим\n",
    "df.head()"
   ]
  },
  {
   "cell_type": "code",
   "execution_count": 87,
   "metadata": {},
   "outputs": [
    {
     "name": "stdout",
     "output_type": "stream",
     "text": [
      "<class 'pandas.core.frame.DataFrame'>\n",
      "RangeIndex: 404770 entries, 0 to 404769\n",
      "Data columns (total 3 columns):\n",
      " #   Column     Non-Null Count   Dtype \n",
      "---  ------     --------------   ----- \n",
      " 0   user_id    404770 non-null  int64 \n",
      " 1   revenue    404770 non-null  int64 \n",
      " 2   testgroup  404770 non-null  object\n",
      "dtypes: int64(2), object(1)\n",
      "memory usage: 9.3+ MB\n"
     ]
    }
   ],
   "source": [
    "# проверяем что нет нулевых значений и смотрим инфо\n",
    "df.info()"
   ]
  },
  {
   "cell_type": "code",
   "execution_count": 88,
   "metadata": {},
   "outputs": [
    {
     "data": {
      "text/plain": [
       "404770"
      ]
     },
     "execution_count": 88,
     "metadata": {},
     "output_type": "execute_result"
    }
   ],
   "source": [
    "# проверяем уникальные ли все юзеры\n",
    "df.user_id.nunique()"
   ]
  },
  {
   "cell_type": "code",
   "execution_count": 89,
   "metadata": {},
   "outputs": [
    {
     "data": {
      "text/html": [
       "<div>\n",
       "<style scoped>\n",
       "    .dataframe tbody tr th:only-of-type {\n",
       "        vertical-align: middle;\n",
       "    }\n",
       "\n",
       "    .dataframe tbody tr th {\n",
       "        vertical-align: top;\n",
       "    }\n",
       "\n",
       "    .dataframe thead th {\n",
       "        text-align: right;\n",
       "    }\n",
       "</style>\n",
       "<table border=\"1\" class=\"dataframe\">\n",
       "  <thead>\n",
       "    <tr style=\"text-align: right;\">\n",
       "      <th></th>\n",
       "      <th>testgroup</th>\n",
       "      <th>user_id</th>\n",
       "    </tr>\n",
       "  </thead>\n",
       "  <tbody>\n",
       "    <tr>\n",
       "      <th>0</th>\n",
       "      <td>a</td>\n",
       "      <td>202103</td>\n",
       "    </tr>\n",
       "    <tr>\n",
       "      <th>1</th>\n",
       "      <td>b</td>\n",
       "      <td>202667</td>\n",
       "    </tr>\n",
       "  </tbody>\n",
       "</table>\n",
       "</div>"
      ],
      "text/plain": [
       "  testgroup  user_id\n",
       "0         a   202103\n",
       "1         b   202667"
      ]
     },
     "execution_count": 89,
     "metadata": {},
     "output_type": "execute_result"
    }
   ],
   "source": [
    "# проверяем, что количество пользователей в группах распределено, как указано в задании\n",
    "df.groupby(['testgroup'], as_index=False).agg({'user_id' : 'nunique'})"
   ]
  },
  {
   "cell_type": "markdown",
   "metadata": {},
   "source": [
    "Мы можем статистически проанализировать три метрики в этих данных и сравнить их между группами статистически"
   ]
  },
  {
   "cell_type": "markdown",
   "metadata": {},
   "source": [
    "1. ARPU\n",
    "2. ARPPU\n",
    "3. Конверсия"
   ]
  },
  {
   "cell_type": "markdown",
   "metadata": {},
   "source": [
    "## ARPU"
   ]
  },
  {
   "cell_type": "markdown",
   "metadata": {},
   "source": [
    "Cредний доход с привлечённого пользователя. Это то, что уже указано в наших данных в столбике revenue"
   ]
  },
  {
   "cell_type": "markdown",
   "metadata": {},
   "source": [
    "### Визуализация"
   ]
  },
  {
   "cell_type": "code",
   "execution_count": 90,
   "metadata": {},
   "outputs": [
    {
     "data": {
      "text/plain": [
       "count    202103.000000\n",
       "mean         25.413720\n",
       "std         920.768137\n",
       "min           0.000000\n",
       "25%           0.000000\n",
       "50%           0.000000\n",
       "75%           0.000000\n",
       "max       37433.000000\n",
       "Name: revenue, dtype: float64"
      ]
     },
     "execution_count": 90,
     "metadata": {},
     "output_type": "execute_result"
    }
   ],
   "source": [
    "# посмотрим описательные стистики по выручке\n",
    "df.query('testgroup == \"a\"').revenue.describe()"
   ]
  },
  {
   "cell_type": "code",
   "execution_count": 91,
   "metadata": {},
   "outputs": [
    {
     "data": {
      "text/plain": [
       "count    202667.000000\n",
       "mean         26.751287\n",
       "std         287.324162\n",
       "min           0.000000\n",
       "25%           0.000000\n",
       "50%           0.000000\n",
       "75%           0.000000\n",
       "max        4000.000000\n",
       "Name: revenue, dtype: float64"
      ]
     },
     "execution_count": 91,
     "metadata": {},
     "output_type": "execute_result"
    }
   ],
   "source": [
    "df.query('testgroup == \"b\"').revenue.describe()"
   ]
  },
  {
   "cell_type": "markdown",
   "metadata": {},
   "source": [
    "Максимальные значения и стандартные отклонения сильно разнятся по выборкам, в контрольной группе более серьезные выбросы"
   ]
  },
  {
   "cell_type": "code",
   "execution_count": 92,
   "metadata": {},
   "outputs": [
    {
     "data": {
      "text/plain": [
       "<matplotlib.axes._subplots.AxesSubplot at 0x7fd73c6dd8d0>"
      ]
     },
     "execution_count": 92,
     "metadata": {},
     "output_type": "execute_result"
    },
    {
     "data": {
      "image/png": "[encoded data removed]",
      "text/plain": [
       "<Figure size 432x288 with 1 Axes>"
      ]
     },
     "metadata": {
      "needs_background": "light"
     },
     "output_type": "display_data"
    }
   ],
   "source": [
    "# и гистограммы\n",
    "sns.histplot(data=df.query('testgroup == \"a\"').revenue)"
   ]
  },
  {
   "cell_type": "code",
   "execution_count": 93,
   "metadata": {},
   "outputs": [
    {
     "data": {
      "text/plain": [
       "<matplotlib.axes._subplots.AxesSubplot at 0x7fd73d1eaef0>"
      ]
     },
     "execution_count": 93,
     "metadata": {},
     "output_type": "execute_result"
    },
    {
     "data": {
      "image/png": "[encoded data removed]",
      "text/plain": [
       "<Figure size 432x288 with 1 Axes>"
      ]
     },
     "metadata": {
      "needs_background": "light"
     },
     "output_type": "display_data"
    }
   ],
   "source": [
    "sns.histplot(data=df.query('testgroup == \"b\"').revenue)"
   ]
  },
  {
   "cell_type": "markdown",
   "metadata": {},
   "source": [
    "На гистограмме не видно самих выбросов, так как их мало на выборку, но по ширине оси Х это тоже можно пронаблюдать"
   ]
  },
  {
   "cell_type": "markdown",
   "metadata": {},
   "source": [
    "Не знаю, что лучше сделать с этими выбросами, может стоили выбросить их из данных, но тогда это очень сильно повлияет на конверсию и анализ будет неактуальным. Для ARPU и ARPPU, наверное, можно было бы убрать выбросы из обеих выборок, но все же я все еще не уверен, что это хорошая идея. Но и делать выводы по таким раскошенным данным тоже может быть не лучшей идеей. Но проведем анализ по ним"
   ]
  },
  {
   "cell_type": "markdown",
   "metadata": {},
   "source": [
    "Для ARPU & ARPPU мы можем использовать Т-тест, а для конверсии Хи-квадрат"
   ]
  },
  {
   "cell_type": "markdown",
   "metadata": {},
   "source": [
    "### Проверка на нормальность"
   ]
  },
  {
   "cell_type": "code",
   "execution_count": 94,
   "metadata": {},
   "outputs": [
    {
     "data": {
      "text/html": [
       "<div>\n",
       "<style scoped>\n",
       "    .dataframe tbody tr th:only-of-type {\n",
       "        vertical-align: middle;\n",
       "    }\n",
       "\n",
       "    .dataframe tbody tr th {\n",
       "        vertical-align: top;\n",
       "    }\n",
       "\n",
       "    .dataframe thead th {\n",
       "        text-align: right;\n",
       "    }\n",
       "</style>\n",
       "<table border=\"1\" class=\"dataframe\">\n",
       "  <thead>\n",
       "    <tr style=\"text-align: right;\">\n",
       "      <th></th>\n",
       "      <th>W</th>\n",
       "      <th>pval</th>\n",
       "      <th>normal</th>\n",
       "    </tr>\n",
       "  </thead>\n",
       "  <tbody>\n",
       "    <tr>\n",
       "      <th>revenue</th>\n",
       "      <td>585152.731273</td>\n",
       "      <td>0.0</td>\n",
       "      <td>False</td>\n",
       "    </tr>\n",
       "  </tbody>\n",
       "</table>\n",
       "</div>"
      ],
      "text/plain": [
       "                     W  pval  normal\n",
       "revenue  585152.731273   0.0   False"
      ]
     },
     "execution_count": 94,
     "metadata": {},
     "output_type": "execute_result"
    }
   ],
   "source": [
    "pg.normality(df.query('testgroup == \"a\"').revenue, method='normaltest')"
   ]
  },
  {
   "cell_type": "code",
   "execution_count": 95,
   "metadata": {},
   "outputs": [
    {
     "data": {
      "text/html": [
       "<div>\n",
       "<style scoped>\n",
       "    .dataframe tbody tr th:only-of-type {\n",
       "        vertical-align: middle;\n",
       "    }\n",
       "\n",
       "    .dataframe tbody tr th {\n",
       "        vertical-align: top;\n",
       "    }\n",
       "\n",
       "    .dataframe thead th {\n",
       "        text-align: right;\n",
       "    }\n",
       "</style>\n",
       "<table border=\"1\" class=\"dataframe\">\n",
       "  <thead>\n",
       "    <tr style=\"text-align: right;\">\n",
       "      <th></th>\n",
       "      <th>W</th>\n",
       "      <th>pval</th>\n",
       "      <th>normal</th>\n",
       "    </tr>\n",
       "  </thead>\n",
       "  <tbody>\n",
       "    <tr>\n",
       "      <th>revenue</th>\n",
       "      <td>326622.395409</td>\n",
       "      <td>0.0</td>\n",
       "      <td>False</td>\n",
       "    </tr>\n",
       "  </tbody>\n",
       "</table>\n",
       "</div>"
      ],
      "text/plain": [
       "                     W  pval  normal\n",
       "revenue  326622.395409   0.0   False"
      ]
     },
     "execution_count": 95,
     "metadata": {},
     "output_type": "execute_result"
    }
   ],
   "source": [
    "pg.normality(df.query('testgroup == \"b\"').revenue, method='normaltest')"
   ]
  },
  {
   "cell_type": "markdown",
   "metadata": {},
   "source": [
    "В обеих выборках мы отвергаем нулевую гипотезу о нормальности распределения количества просмотренных анкет, так как p-value ниже порога 0.05, но все равно можем использовать Т-тест, так как выборки очень большие"
   ]
  },
  {
   "cell_type": "markdown",
   "metadata": {},
   "source": [
    "### Проверка дисперсий на гомогенность"
   ]
  },
  {
   "cell_type": "code",
   "execution_count": 96,
   "metadata": {},
   "outputs": [
    {
     "data": {
      "text/plain": [
       "LeveneResult(statistic=0.3896289474701388, pvalue=0.5324948591043842)"
      ]
     },
     "execution_count": 96,
     "metadata": {},
     "output_type": "execute_result"
    }
   ],
   "source": [
    "ss.levene(df.query('testgroup == \"a\"').revenue, df.query('testgroup == \"b\"').revenue)"
   ]
  },
  {
   "cell_type": "markdown",
   "metadata": {},
   "source": [
    "Значение p-value выше 0,05, что позволяет принять нулевую гипотезу о равенстве дисперсий в выборках"
   ]
  },
  {
   "cell_type": "markdown",
   "metadata": {},
   "source": [
    "### Расчет результатов по ARPU"
   ]
  },
  {
   "cell_type": "markdown",
   "metadata": {},
   "source": [
    "Для Т-критерия Стъюдента\n",
    "- $H_0$: предполагает, что средние равны\n",
    "- $H_1$: отвергает нулевую гипотезу о равенстве средних"
   ]
  },
  {
   "cell_type": "code",
   "execution_count": 97,
   "metadata": {},
   "outputs": [
    {
     "data": {
      "text/html": [
       "<div>\n",
       "<style scoped>\n",
       "    .dataframe tbody tr th:only-of-type {\n",
       "        vertical-align: middle;\n",
       "    }\n",
       "\n",
       "    .dataframe tbody tr th {\n",
       "        vertical-align: top;\n",
       "    }\n",
       "\n",
       "    .dataframe thead th {\n",
       "        text-align: right;\n",
       "    }\n",
       "</style>\n",
       "<table border=\"1\" class=\"dataframe\">\n",
       "  <thead>\n",
       "    <tr style=\"text-align: right;\">\n",
       "      <th></th>\n",
       "      <th>T</th>\n",
       "      <th>dof</th>\n",
       "      <th>alternative</th>\n",
       "      <th>p-val</th>\n",
       "      <th>CI95%</th>\n",
       "      <th>cohen-d</th>\n",
       "      <th>BF10</th>\n",
       "      <th>power</th>\n",
       "    </tr>\n",
       "  </thead>\n",
       "  <tbody>\n",
       "    <tr>\n",
       "      <th>T-test</th>\n",
       "      <td>-0.623488</td>\n",
       "      <td>240991.130782</td>\n",
       "      <td>two-sided</td>\n",
       "      <td>0.532965</td>\n",
       "      <td>[-5.54, 2.87]</td>\n",
       "      <td>0.001962</td>\n",
       "      <td>0.004</td>\n",
       "      <td>0.095694</td>\n",
       "    </tr>\n",
       "  </tbody>\n",
       "</table>\n",
       "</div>"
      ],
      "text/plain": [
       "               T            dof alternative     p-val          CI95%  \\\n",
       "T-test -0.623488  240991.130782   two-sided  0.532965  [-5.54, 2.87]   \n",
       "\n",
       "         cohen-d   BF10     power  \n",
       "T-test  0.001962  0.004  0.095694  "
      ]
     },
     "execution_count": 97,
     "metadata": {},
     "output_type": "execute_result"
    }
   ],
   "source": [
    "pg.ttest(df.query('testgroup == \"a\"').revenue, df.query('testgroup == \"b\"').revenue)"
   ]
  },
  {
   "cell_type": "markdown",
   "metadata": {},
   "source": [
    "В нашем случае p-value равняется 0.53, что значит, что мы принимаем $H_0$ о равенстве средних значений по ARPU в выборках"
   ]
  },
  {
   "cell_type": "markdown",
   "metadata": {},
   "source": [
    "## ARPPU"
   ]
  },
  {
   "cell_type": "markdown",
   "metadata": {},
   "source": [
    "Средний доход на платящего пользователя (то есть клиента)."
   ]
  },
  {
   "cell_type": "code",
   "execution_count": 98,
   "metadata": {},
   "outputs": [],
   "source": [
    "# для этого отфильтруем из данных только платящих юзеров\n",
    "arppu_df = df.query('revenue > 0')"
   ]
  },
  {
   "cell_type": "markdown",
   "metadata": {},
   "source": [
    "### Визуализация"
   ]
  },
  {
   "cell_type": "code",
   "execution_count": 99,
   "metadata": {},
   "outputs": [
    {
     "data": {
      "text/plain": [
       "count     1928.000000\n",
       "mean      2663.998444\n",
       "std       9049.039763\n",
       "min        200.000000\n",
       "25%        257.000000\n",
       "50%        311.000000\n",
       "75%        361.000000\n",
       "max      37433.000000\n",
       "Name: revenue, dtype: float64"
      ]
     },
     "execution_count": 99,
     "metadata": {},
     "output_type": "execute_result"
    }
   ],
   "source": [
    "arppu_df.query('testgroup == \"a\"').revenue.describe()"
   ]
  },
  {
   "cell_type": "code",
   "execution_count": 100,
   "metadata": {},
   "outputs": [
    {
     "data": {
      "text/plain": [
       "count    1805.000000\n",
       "mean     3003.658172\n",
       "std       572.619709\n",
       "min      2000.000000\n",
       "25%      2513.000000\n",
       "50%      3022.000000\n",
       "75%      3478.000000\n",
       "max      4000.000000\n",
       "Name: revenue, dtype: float64"
      ]
     },
     "execution_count": 100,
     "metadata": {},
     "output_type": "execute_result"
    }
   ],
   "source": [
    "arppu_df.query('testgroup == \"b\"').revenue.describe()"
   ]
  },
  {
   "cell_type": "code",
   "execution_count": 101,
   "metadata": {},
   "outputs": [
    {
     "data": {
      "text/plain": [
       "<matplotlib.axes._subplots.AxesSubplot at 0x7fd73c53f908>"
      ]
     },
     "execution_count": 101,
     "metadata": {},
     "output_type": "execute_result"
    },
    {
     "data": {
      "image/png": "[encoded data removed]",
      "text/plain": [
       "<Figure size 432x288 with 1 Axes>"
      ]
     },
     "metadata": {
      "needs_background": "light"
     },
     "output_type": "display_data"
    }
   ],
   "source": [
    "sns.histplot(data=arppu_df.query('testgroup == \"a\"').revenue)"
   ]
  },
  {
   "cell_type": "code",
   "execution_count": 102,
   "metadata": {},
   "outputs": [
    {
     "data": {
      "text/plain": [
       "<matplotlib.axes._subplots.AxesSubplot at 0x7fd734dd7160>"
      ]
     },
     "execution_count": 102,
     "metadata": {},
     "output_type": "execute_result"
    },
    {
     "data": {
      "image/png": "[encoded data removed]",
      "text/plain": [
       "<Figure size 432x288 with 1 Axes>"
      ]
     },
     "metadata": {
      "needs_background": "light"
     },
     "output_type": "display_data"
    }
   ],
   "source": [
    "sns.histplot(data=arppu_df.query('testgroup == \"b\"').revenue)"
   ]
  },
  {
   "cell_type": "markdown",
   "metadata": {},
   "source": [
    "Здесь мы еще более явно видим выбросы в первой выборке и теперь даже понятно, что совсем экстремальные значения находятся только в контрольной группе, а в тестовой суммы чеков распределены равномерно"
   ]
  },
  {
   "cell_type": "markdown",
   "metadata": {},
   "source": [
    "### Проверка на нормальность"
   ]
  },
  {
   "cell_type": "code",
   "execution_count": 103,
   "metadata": {},
   "outputs": [
    {
     "data": {
      "text/html": [
       "<div>\n",
       "<style scoped>\n",
       "    .dataframe tbody tr th:only-of-type {\n",
       "        vertical-align: middle;\n",
       "    }\n",
       "\n",
       "    .dataframe tbody tr th {\n",
       "        vertical-align: top;\n",
       "    }\n",
       "\n",
       "    .dataframe thead th {\n",
       "        text-align: right;\n",
       "    }\n",
       "</style>\n",
       "<table border=\"1\" class=\"dataframe\">\n",
       "  <thead>\n",
       "    <tr style=\"text-align: right;\">\n",
       "      <th></th>\n",
       "      <th>W</th>\n",
       "      <th>pval</th>\n",
       "      <th>normal</th>\n",
       "    </tr>\n",
       "  </thead>\n",
       "  <tbody>\n",
       "    <tr>\n",
       "      <th>revenue</th>\n",
       "      <td>1394.945784</td>\n",
       "      <td>1.234161e-303</td>\n",
       "      <td>False</td>\n",
       "    </tr>\n",
       "  </tbody>\n",
       "</table>\n",
       "</div>"
      ],
      "text/plain": [
       "                   W           pval  normal\n",
       "revenue  1394.945784  1.234161e-303   False"
      ]
     },
     "execution_count": 103,
     "metadata": {},
     "output_type": "execute_result"
    }
   ],
   "source": [
    "pg.normality(arppu_df.query('testgroup == \"a\"').revenue, method='normaltest')"
   ]
  },
  {
   "cell_type": "code",
   "execution_count": 104,
   "metadata": {},
   "outputs": [
    {
     "data": {
      "text/html": [
       "<div>\n",
       "<style scoped>\n",
       "    .dataframe tbody tr th:only-of-type {\n",
       "        vertical-align: middle;\n",
       "    }\n",
       "\n",
       "    .dataframe tbody tr th {\n",
       "        vertical-align: top;\n",
       "    }\n",
       "\n",
       "    .dataframe thead th {\n",
       "        text-align: right;\n",
       "    }\n",
       "</style>\n",
       "<table border=\"1\" class=\"dataframe\">\n",
       "  <thead>\n",
       "    <tr style=\"text-align: right;\">\n",
       "      <th></th>\n",
       "      <th>W</th>\n",
       "      <th>pval</th>\n",
       "      <th>normal</th>\n",
       "    </tr>\n",
       "  </thead>\n",
       "  <tbody>\n",
       "    <tr>\n",
       "      <th>revenue</th>\n",
       "      <td>1068.860008</td>\n",
       "      <td>7.943249e-233</td>\n",
       "      <td>False</td>\n",
       "    </tr>\n",
       "  </tbody>\n",
       "</table>\n",
       "</div>"
      ],
      "text/plain": [
       "                   W           pval  normal\n",
       "revenue  1068.860008  7.943249e-233   False"
      ]
     },
     "execution_count": 104,
     "metadata": {},
     "output_type": "execute_result"
    }
   ],
   "source": [
    "pg.normality(arppu_df.query('testgroup == \"b\"').revenue, method='normaltest')"
   ]
  },
  {
   "cell_type": "markdown",
   "metadata": {},
   "source": [
    "В обеих выборках мы отвергаем нулевую гипотезу о нормальности распределения количества просмотренных анкет, так как p-value ниже порога 0.05, но все равно можем использовать Т-тест, так как выборки очень большие"
   ]
  },
  {
   "cell_type": "markdown",
   "metadata": {},
   "source": [
    "### Проверка дисперсий на гомогенность"
   ]
  },
  {
   "cell_type": "code",
   "execution_count": 105,
   "metadata": {},
   "outputs": [
    {
     "data": {
      "text/plain": [
       "LeveneResult(statistic=80.85567421779912, pvalue=3.779689868667878e-19)"
      ]
     },
     "execution_count": 105,
     "metadata": {},
     "output_type": "execute_result"
    }
   ],
   "source": [
    "ss.levene(arppu_df.query('testgroup == \"a\"').revenue, arppu_df.query('testgroup == \"b\"').revenue)"
   ]
  },
  {
   "cell_type": "markdown",
   "metadata": {},
   "source": [
    "Значение p-value нижу 0,05, а значит гипотеза о гомогенности дисперсий отвергается, и нам нужно применить Т-тест с критерием Уэлча"
   ]
  },
  {
   "cell_type": "markdown",
   "metadata": {},
   "source": [
    "### Расчет результатов по ARPPU"
   ]
  },
  {
   "cell_type": "markdown",
   "metadata": {},
   "source": [
    "Для Т-критерия Стъюдента\n",
    "- $H_0$: предполагает, что средние равны\n",
    "- $H_1$: отвергает нулевую гипотезу о равенстве средних"
   ]
  },
  {
   "cell_type": "code",
   "execution_count": 106,
   "metadata": {},
   "outputs": [
    {
     "data": {
      "text/html": [
       "<div>\n",
       "<style scoped>\n",
       "    .dataframe tbody tr th:only-of-type {\n",
       "        vertical-align: middle;\n",
       "    }\n",
       "\n",
       "    .dataframe tbody tr th {\n",
       "        vertical-align: top;\n",
       "    }\n",
       "\n",
       "    .dataframe thead th {\n",
       "        text-align: right;\n",
       "    }\n",
       "</style>\n",
       "<table border=\"1\" class=\"dataframe\">\n",
       "  <thead>\n",
       "    <tr style=\"text-align: right;\">\n",
       "      <th></th>\n",
       "      <th>T</th>\n",
       "      <th>dof</th>\n",
       "      <th>alternative</th>\n",
       "      <th>p-val</th>\n",
       "      <th>CI95%</th>\n",
       "      <th>cohen-d</th>\n",
       "      <th>BF10</th>\n",
       "      <th>power</th>\n",
       "    </tr>\n",
       "  </thead>\n",
       "  <tbody>\n",
       "    <tr>\n",
       "      <th>T-test</th>\n",
       "      <td>-1.64463</td>\n",
       "      <td>1943.481522</td>\n",
       "      <td>two-sided</td>\n",
       "      <td>0.100208</td>\n",
       "      <td>[-744.7, 65.38]</td>\n",
       "      <td>0.052132</td>\n",
       "      <td>0.142</td>\n",
       "      <td>0.356381</td>\n",
       "    </tr>\n",
       "  </tbody>\n",
       "</table>\n",
       "</div>"
      ],
      "text/plain": [
       "              T          dof alternative     p-val            CI95%   cohen-d  \\\n",
       "T-test -1.64463  1943.481522   two-sided  0.100208  [-744.7, 65.38]  0.052132   \n",
       "\n",
       "         BF10     power  \n",
       "T-test  0.142  0.356381  "
      ]
     },
     "execution_count": 106,
     "metadata": {},
     "output_type": "execute_result"
    }
   ],
   "source": [
    "pg.ttest(arppu_df.query('testgroup == \"a\"').revenue, arppu_df.query('testgroup == \"b\"').revenue, correction=True)"
   ]
  },
  {
   "cell_type": "markdown",
   "metadata": {},
   "source": [
    "В нашем случае p-value равняется 0.1, что значит, что мы принимаем $H_0$ о равенстве средних значений по ARPU в выборках"
   ]
  },
  {
   "cell_type": "markdown",
   "metadata": {},
   "source": [
    "## Конверсия"
   ]
  },
  {
   "cell_type": "code",
   "execution_count": 107,
   "metadata": {},
   "outputs": [
    {
     "data": {
      "text/html": [
       "<div>\n",
       "<style scoped>\n",
       "    .dataframe tbody tr th:only-of-type {\n",
       "        vertical-align: middle;\n",
       "    }\n",
       "\n",
       "    .dataframe tbody tr th {\n",
       "        vertical-align: top;\n",
       "    }\n",
       "\n",
       "    .dataframe thead th {\n",
       "        text-align: right;\n",
       "    }\n",
       "</style>\n",
       "<table border=\"1\" class=\"dataframe\">\n",
       "  <thead>\n",
       "    <tr style=\"text-align: right;\">\n",
       "      <th></th>\n",
       "      <th>user_id</th>\n",
       "      <th>revenue</th>\n",
       "      <th>testgroup</th>\n",
       "      <th>converted</th>\n",
       "    </tr>\n",
       "  </thead>\n",
       "  <tbody>\n",
       "    <tr>\n",
       "      <th>0</th>\n",
       "      <td>1</td>\n",
       "      <td>0</td>\n",
       "      <td>b</td>\n",
       "      <td>False</td>\n",
       "    </tr>\n",
       "    <tr>\n",
       "      <th>1</th>\n",
       "      <td>2</td>\n",
       "      <td>0</td>\n",
       "      <td>a</td>\n",
       "      <td>False</td>\n",
       "    </tr>\n",
       "    <tr>\n",
       "      <th>2</th>\n",
       "      <td>3</td>\n",
       "      <td>0</td>\n",
       "      <td>a</td>\n",
       "      <td>False</td>\n",
       "    </tr>\n",
       "    <tr>\n",
       "      <th>3</th>\n",
       "      <td>4</td>\n",
       "      <td>0</td>\n",
       "      <td>b</td>\n",
       "      <td>False</td>\n",
       "    </tr>\n",
       "    <tr>\n",
       "      <th>4</th>\n",
       "      <td>5</td>\n",
       "      <td>0</td>\n",
       "      <td>b</td>\n",
       "      <td>False</td>\n",
       "    </tr>\n",
       "  </tbody>\n",
       "</table>\n",
       "</div>"
      ],
      "text/plain": [
       "   user_id  revenue testgroup  converted\n",
       "0        1        0         b      False\n",
       "1        2        0         a      False\n",
       "2        3        0         a      False\n",
       "3        4        0         b      False\n",
       "4        5        0         b      False"
      ]
     },
     "execution_count": 107,
     "metadata": {},
     "output_type": "execute_result"
    }
   ],
   "source": [
    "# создаем столбик, где отметим произвел ли юзер покупку\n",
    "df['converted'] = df['revenue'] > 0\n",
    "df.head()"
   ]
  },
  {
   "cell_type": "code",
   "execution_count": 108,
   "metadata": {},
   "outputs": [
    {
     "data": {
      "text/html": [
       "<div>\n",
       "<style scoped>\n",
       "    .dataframe tbody tr th:only-of-type {\n",
       "        vertical-align: middle;\n",
       "    }\n",
       "\n",
       "    .dataframe tbody tr th {\n",
       "        vertical-align: top;\n",
       "    }\n",
       "\n",
       "    .dataframe thead th {\n",
       "        text-align: right;\n",
       "    }\n",
       "</style>\n",
       "<table border=\"1\" class=\"dataframe\">\n",
       "  <thead>\n",
       "    <tr style=\"text-align: right;\">\n",
       "      <th>testgroup</th>\n",
       "      <th>a</th>\n",
       "      <th>b</th>\n",
       "    </tr>\n",
       "    <tr>\n",
       "      <th>converted</th>\n",
       "      <th></th>\n",
       "      <th></th>\n",
       "    </tr>\n",
       "  </thead>\n",
       "  <tbody>\n",
       "    <tr>\n",
       "      <th>False</th>\n",
       "      <td>200175</td>\n",
       "      <td>200862</td>\n",
       "    </tr>\n",
       "    <tr>\n",
       "      <th>True</th>\n",
       "      <td>1928</td>\n",
       "      <td>1805</td>\n",
       "    </tr>\n",
       "  </tbody>\n",
       "</table>\n",
       "</div>"
      ],
      "text/plain": [
       "testgroup       a       b\n",
       "converted                \n",
       "False      200175  200862\n",
       "True         1928    1805"
      ]
     },
     "execution_count": 108,
     "metadata": {},
     "output_type": "execute_result"
    }
   ],
   "source": [
    "pd.crosstab(df.converted, df.testgroup)"
   ]
  },
  {
   "cell_type": "markdown",
   "metadata": {},
   "source": [
    "Для критерия Хи-квадрат\n",
    "- $H_0$: взаимосвязи между переменными нет \n",
    "- $H_1$: взаимосвязь есть"
   ]
  },
  {
   "cell_type": "code",
   "execution_count": 109,
   "metadata": {},
   "outputs": [
    {
     "data": {
      "text/plain": [
       "(4.374729521260405,\n",
       " 0.03647561892312613,\n",
       " array([[200239.10075104, 200797.89924896],\n",
       "        [  1863.89924896,   1869.10075104]]))"
      ]
     },
     "execution_count": 109,
     "metadata": {},
     "output_type": "execute_result"
    }
   ],
   "source": [
    "stat, p, dof, expected = ss.chi2_contingency(pd.crosstab(df.converted, df.testgroup))\n",
    "stat, p, expected"
   ]
  },
  {
   "cell_type": "markdown",
   "metadata": {},
   "source": [
    "В нашем случае p-value равняется 0.036, что ниже 0.05 и значит, что мы отклоняем $H_0$ и принимаем альтернативную $H_1$ о том, что взаимосвязь есть"
   ]
  },
  {
   "cell_type": "markdown",
   "metadata": {},
   "source": [
    "Люди в контрольной группе чаще совершают покупку, но наши данные по группам все также перекошены"
   ]
  },
  {
   "cell_type": "markdown",
   "metadata": {},
   "source": [
    "### Ответ на задание 2 - Выводы"
   ]
  },
  {
   "cell_type": "markdown",
   "metadata": {},
   "source": [
    "1. По ARPU & ARPPU нет значимых различий между группами\n",
    "2. Конверсия выше в контрольной группе, но данные по покупкам в группах перекошены с выбросами в контрольной групп\n",
    "3. По результатам тестов логичным кажется, что набор предложений из контрольной группы лучше (может эти предложения и вызвали большие покупки? или все же что-то с данными, не знаю)"
   ]
  },
  {
   "cell_type": "markdown",
   "metadata": {},
   "source": [
    "# Задание 3"
   ]
  },
  {
   "cell_type": "markdown",
   "metadata": {},
   "source": [
    "В игре Plants & Gardens ежемесячно проходят временные тематические события, в которых игроки могут получать эксклюзивные предметы, персонажей, бонусные монеты и другие награды. Для получения приза необходимо пройти определенное количество уровней в установленный срок.\n",
    "\n",
    "Анализ:\n",
    "\n",
    "Какие метрики помогут оценить результаты последнего завершенного события?\\\n",
    "Как повлияет изменение механики, при котором игрок откатывается на несколько уровней назад после неудачной попытки? Нужно ли пересматривать набор метрик?"
   ]
  },
  {
   "cell_type": "markdown",
   "metadata": {},
   "source": [
    "### Первый вопрос"
   ]
  },
  {
   "cell_type": "markdown",
   "metadata": {},
   "source": [
    "Основные метрики, которые можно посмотреть для оценки результатов я бы подразделил на 2 вида метрик:\\\n",
    "1. Метрики участия и вовлеченности игроков\n",
    "2. Метрики экономики"
   ]
  },
  {
   "cell_type": "markdown",
   "metadata": {},
   "source": [
    "### Метрики участия и вовлеченности игроков"
   ]
  },
  {
   "cell_type": "markdown",
   "metadata": {},
   "source": [
    "1. DAU - метрика, которая отражает количество активных пользователей приложения за один день. Можно посмотреть больше ли пользовталей заходит в игру \n",
    "2. Количество игровых сессий во время события. Заходят ли пользователи чаще в игру во время событий\n",
    "3. Среднее время пользователей за одну сессию. Проводят ли игроки больше времени в игре во время событий\n",
    "4. Retention игроков, участвующих в событии (вернулись ли они в игру на следующий день, через неделю и т.д.)\n",
    "5. Количество игроков, учаcтвующих в событии и их доля от общего количество играющих во время этого события\n",
    "6. Количество и доля игроков, успешно прошедших событие"
   ]
  },
  {
   "cell_type": "markdown",
   "metadata": {},
   "source": [
    "### Метрики экономики"
   ]
  },
  {
   "cell_type": "markdown",
   "metadata": {},
   "source": [
    "1. ARPU и ARPPU. Покупают ли пользователи чаще внутриигровую валюту и улучшения за реальные деньги, чтобы успевать пройти события и получить все награды\n",
    "2. Conversion. Растет ли доля пользователей, которые совершают покупки во время события, чтобы получить уникальные награды"
   ]
  },
  {
   "cell_type": "markdown",
   "metadata": {},
   "source": [
    "Помимо этих основных метрик также можно следить и за метриками внутренней экономики игры и анализировать то, как обращаются игроки с внутриигровой валютой: тратят ли больше внутриигровой валюты и различных бустов во время события, а также метрики самого события: количество пройденных уровней, время потраченное на их прохождение, как одного конкретного уровня, так и всего события целиком"
   ]
  },
  {
   "cell_type": "markdown",
   "metadata": {},
   "source": [
    "### Второй вопрос"
   ]
  },
  {
   "cell_type": "markdown",
   "metadata": {},
   "source": [
    "В данном случае механика события усложнена, что добавляет необходимость пронаблюдать и другие метрики, которые позволят оценить эффект от влияния изменения механики"
   ]
  },
  {
   "cell_type": "markdown",
   "metadata": {},
   "source": [
    "### Метрики участия и вовлеченности игроков"
   ]
  },
  {
   "cell_type": "markdown",
   "metadata": {},
   "source": [
    "1. При такой механике событий можно дополнительно посмотреть на Churn rate - метрику оттока клиентов, чтобы посмотреть приводят ли откатывания назад к тому, что пользователи выходят из игры\n",
    "2. Также в оттоке клиентов важно отдельно просмотреть именно тех игроков, которые отказлись от прохождения события после отката\n",
    "3. При такой механике событий также может быть важным получить обратную связь от игроков об этой механике, дав написать отзыв или возможность оценить событие, и тогда метрикой будет рейтинг события у игроков\n",
    "4. Также важным останется отследить количество игроков, кто сможет пройти событие при такой механике"
   ]
  },
  {
   "cell_type": "markdown",
   "metadata": {},
   "source": [
    "### Метрики экономики"
   ]
  },
  {
   "cell_type": "markdown",
   "metadata": {},
   "source": [
    "Здесь также останутся актуальными метрики, указанные выше и за ними стоит проследить, оценив эффект влияния изменения механики на них. Возможно, игроки будут активнее покупать улучшения и валюту, чтобы пройти событие с более сложной механикой, особенно если награды за это события будут более ценными либо же они, наоборот, будут менее активно тратить деньги из-за дополнительных сложностей при прихождении события"
   ]
  },
  {
   "cell_type": "markdown",
   "metadata": {},
   "source": [
    "Механика с откатом повышает сложность события и может вызывать большее напряжение у игроков. Это может:\n",
    "\n",
    "1. Увеличить\\уменьшить монетизацию за счет покупки усилений. (поэтому анализ метрик экономики все также важен)\n",
    "2. Снизить удовлетворенность и вовлеченность, если игроки воспримут усложнение как несправедливое, а задачу прохождения события тяжеловыполнимой.\n",
    "3. Повлиять на количество завершивших событие, так как усложненные механики часто отсекают менее опытных игроков: доля завершивих события окажется небольшой, а отток клиентов из события будет высоким."
   ]
  }
 ],
 "metadata": {
  "kernelspec": {
   "display_name": "Python [conda env:base] *",
   "language": "python",
   "name": "conda-base-py"
  },
  "language_info": {
   "codemirror_mode": {
    "name": "ipython",
    "version": 3
   },
   "file_extension": ".py",
   "mimetype": "text/x-python",
   "name": "python",
   "nbconvert_exporter": "python",
   "pygments_lexer": "ipython3",
   "version": "3.12.7"
  }
 },
 "nbformat": 4,
 "nbformat_minor": 4
}
